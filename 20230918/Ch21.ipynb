{
 "cells": [
  {
   "cell_type": "code",
   "execution_count": 1,
   "id": "4f0ade71",
   "metadata": {},
   "outputs": [
    {
     "name": "stdout",
     "output_type": "stream",
     "text": [
      "假設跑步為a，跳繩為b\n",
      "跑步的變異係數: 0.092\n",
      "跳繩的變異係數: 0.59\n",
      "變異係數愈大代表這個團體的離散程度愈大\n"
     ]
    }
   ],
   "source": [
    "print('假設跑步為a，跳繩為b')\n",
    "a_mean=25\n",
    "b_mean=10\n",
    "a_std=2.3\n",
    "b_std=5.9\n",
    "a_cv=a_std/a_mean\n",
    "b_cv=b_std/b_mean\n",
    "print('跑步的變異係數:',a_cv)\n",
    "print('跳繩的變異係數:',round(b_cv,2) )\n",
    "print('變異係數愈大代表這個團體的離散程度愈大')"
   ]
  },
  {
   "cell_type": "code",
   "execution_count": 3,
   "id": "7908ebe3",
   "metadata": {},
   "outputs": [
    {
     "name": "stdout",
     "output_type": "stream",
     "text": [
      "共變異數(協方差)的推算，計算波動的程度\n",
      "[[8.30622323e+08 1.89144910e+09]\n",
      " [1.89144910e+09 8.17716725e+09]]\n",
      "相關係數的推算，計算兩者的相關性\n",
      "[[1.         0.72575731]\n",
      " [0.72575731 1.        ]]\n"
     ]
    }
   ],
   "source": [
    "import pandas as pd\n",
    "import numpy as np\n",
    "# 財富美國1000強\n",
    "# Rank 等級\n",
    "fortune = pd.read_csv(\"fortune1000.csv\",index_col='Rank')\n",
    "#print(fortune)\n",
    "a=fortune['Revenue'] # 收入\n",
    "b=fortune['Employees'] # 公司員工人數\n",
    "print('共變異數(協方差)的推算，計算波動的程度')\n",
    "print(np.cov(a,b))\n",
    "print('相關係數的推算，計算兩者的相關性')\n",
    "print(np.corrcoef(a,b))"
   ]
  },
  {
   "cell_type": "markdown",
   "id": "f25f3407",
   "metadata": {},
   "source": [
    "### 單位矩陣與轉置矩陣"
   ]
  },
  {
   "cell_type": "code",
   "execution_count": 6,
   "id": "c3be672a",
   "metadata": {},
   "outputs": [
    {
     "name": "stdout",
     "output_type": "stream",
     "text": [
      "[[1. 0. 0. 0.]\n",
      " [0. 1. 0. 0.]\n",
      " [0. 0. 1. 0.]\n",
      " [0. 0. 0. 1.]]\n",
      "[[  3   5   6   8]\n",
      " [ 13  25  46  98]\n",
      " [111 234 556 567]]\n",
      "[[  3  13 111]\n",
      " [  5  25 234]\n",
      " [  6  46 556]\n",
      " [  8  98 567]]\n",
      "[[  3  13 111]\n",
      " [  5  25 234]\n",
      " [  6  46 556]\n",
      " [  8  98 567]]\n",
      "[[1 2]\n",
      " [2 1]]\n",
      "[[1 2]\n",
      " [2 1]]\n"
     ]
    }
   ],
   "source": [
    "import numpy as np\n",
    "array1 = np.eye(4)\n",
    "print(array1)\n",
    "array2=np.array([[3,5,6,8],[13,25,46,98],[111,234,556,567]])\n",
    "print(array2)\n",
    "print(np.transpose(array2))\n",
    "print(array2.T)\n",
    "\n",
    "s = [[1,2],\n",
    "     [2,1]]\n",
    "s = np.array(s)\n",
    "print(s)\n",
    "print(s.T)"
   ]
  },
  {
   "cell_type": "code",
   "execution_count": 7,
   "id": "7e3e2a30",
   "metadata": {},
   "outputs": [
    {
     "name": "stdout",
     "output_type": "stream",
     "text": [
      "(2, 3)\n",
      "(3, 2)\n",
      "[[340 612]\n",
      " [321 572]]\n",
      "[[340 612]\n",
      " [321 572]]\n"
     ]
    }
   ],
   "source": [
    "import numpy as np\n",
    "a = [[15,14,15],\n",
    "     [12,13,17]]\n",
    "b = [[10,14],\n",
    "    [5,18],\n",
    "    [8,10]]\n",
    "a = np.array(a)\n",
    "b = np.array(b)\n",
    "print(a.shape)\n",
    "print(b.shape)\n",
    "print(np.dot(a,b))\n",
    "print(a@b)"
   ]
  },
  {
   "cell_type": "code",
   "execution_count": 8,
   "id": "a9a5d8c3",
   "metadata": {},
   "outputs": [
    {
     "name": "stdout",
     "output_type": "stream",
     "text": [
      "[[ 27  -3]\n",
      " [ 66 -22]]\n",
      "[[ 20  16]\n",
      " [  6 -15]]\n"
     ]
    }
   ],
   "source": [
    "import numpy as np\n",
    "a = [[6,3],\n",
    "     [8,10]]\n",
    "b = [[2,1],\n",
    "     [5,-3]]\n",
    "a = np.array(a)\n",
    "b = np.array(b)\n",
    "print(a@b)\n",
    "print(b@a)"
   ]
  },
  {
   "cell_type": "code",
   "execution_count": null,
   "id": "b806d518",
   "metadata": {},
   "outputs": [],
   "source": []
  }
 ],
 "metadata": {
  "kernelspec": {
   "display_name": "Python 3 (ipykernel)",
   "language": "python",
   "name": "python3"
  },
  "language_info": {
   "codemirror_mode": {
    "name": "ipython",
    "version": 3
   },
   "file_extension": ".py",
   "mimetype": "text/x-python",
   "name": "python",
   "nbconvert_exporter": "python",
   "pygments_lexer": "ipython3",
   "version": "3.11.4"
  }
 },
 "nbformat": 4,
 "nbformat_minor": 5
}
