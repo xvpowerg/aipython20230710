{
 "cells": [
  {
   "cell_type": "code",
   "execution_count": 4,
   "id": "952ecabf",
   "metadata": {},
   "outputs": [
    {
     "name": "stdout",
     "output_type": "stream",
     "text": [
      "1\n",
      "超級瑪利歐兄弟電影版\n",
      "$1,359,332,753\n",
      "2\n",
      "Barbie芭比\n",
      "$1,340,301,000\n",
      "3\n",
      "星際異攻隊3\n",
      "$845,512,122\n",
      "4\n",
      "奧本海默\n",
      "$777,198,260\n",
      "5\n",
      "玩命關頭X\n",
      "$704,709,660\n",
      "6\n",
      "蜘蛛人：穿越新宇宙\n",
      "$687,913,244\n",
      "7\n",
      "滿江紅\n",
      "$673,556,758\n",
      "8\n",
      "流浪地球2\n",
      "$604,456,556\n",
      "9\n",
      "小魚仙\n",
      "$568,599,372\n",
      "10\n",
      "不可能的任務：致命清算 第一章\n",
      "$551,963,273\n"
     ]
    }
   ],
   "source": [
    "import requests\n",
    "from bs4 import BeautifulSoup\n",
    "url = \"https://zh.wikipedia.org/zh-tw/2023年电影\"\n",
    "resp = requests.get(url)\n",
    "resp.encoding = \"utf-8\"\n",
    "#print(resp.text)\n",
    "soup = BeautifulSoup(resp.text,'html5lib')\n",
    "moveTable = soup.find(\"table\",class_ = \"wikitable\")\n",
    "tbody = moveTable.find(\"tbody\")\n",
    "trList = tbody.find_all(\"tr\")\n",
    "for inx in range(1,len(trList)):\n",
    "    print(trList[inx].find(\"th\").text.strip())\n",
    "    print(trList[inx].select_one(\"a\").text.strip())\n",
    "    print(trList[inx].find_all(\"td\")[2].text.strip())\n",
    "    "
   ]
  },
  {
   "cell_type": "markdown",
   "id": "53053472",
   "metadata": {},
   "source": [
    "# Numpy 建立與計算"
   ]
  },
  {
   "cell_type": "code",
   "execution_count": 5,
   "id": "79b54458",
   "metadata": {},
   "outputs": [
    {
     "name": "stdout",
     "output_type": "stream",
     "text": [
      "[1, 3, 5, 7, 9, 3, 5, 6, 7, 9]\n"
     ]
    }
   ],
   "source": [
    "c1 = [1,3,5,7,9]\n",
    "d1 = [3,5,6,7,9]\n",
    "f1 = c1 + d1\n",
    "print(f1)"
   ]
  },
  {
   "cell_type": "code",
   "execution_count": 7,
   "id": "3e3fec72",
   "metadata": {},
   "outputs": [
    {
     "name": "stdout",
     "output_type": "stream",
     "text": [
      "[ 4.  8. 11. 14. 18.]\n"
     ]
    }
   ],
   "source": [
    "import numpy as np\n",
    "c2 = np.array([1,3,5,7,9])\n",
    "d2 = np.array([3,5,6,7,9])\n",
    "f2 = c2 + d2\n",
    "print(f2)"
   ]
  },
  {
   "cell_type": "markdown",
   "id": "57845f33",
   "metadata": {},
   "source": [
    "+ ndarray.ndim\n",
    "   + 維度的數量。\n",
    "+ ndarray.shape\n",
    "   + 顯示出陣列在每個維度上的整數值。\n",
    "+ ndarray.size\n",
    "   + 陣列內元素的總數。\n",
    "+ ndarray.dtype\n",
    "   + 用來描述陣列中元素類型的對象。"
   ]
  },
  {
   "cell_type": "code",
   "execution_count": 11,
   "id": "dd19bbd7",
   "metadata": {},
   "outputs": [
    {
     "name": "stdout",
     "output_type": "stream",
     "text": [
      "[[1 2 3]\n",
      " [2 3 4]]\n",
      "number of dim: 2\n",
      "number of shape: (2, 3)\n",
      "size: 6\n",
      "dtype: int32\n"
     ]
    }
   ],
   "source": [
    "import numpy as np\n",
    "i = [[1,2,3],\n",
    "     [2,3,4]]\n",
    "a = np.array(i)\n",
    "print(a)\n",
    "print(\"number of dim:\",a.ndim) #維度的數量 也可稱為軸的數量\n",
    "print(\"number of shape:\",a.shape)\n",
    "print(\"size:\",a.size)\n",
    "print(\"dtype:\",a.dtype)\n"
   ]
  },
  {
   "cell_type": "code",
   "execution_count": 13,
   "id": "26881004",
   "metadata": {},
   "outputs": [
    {
     "name": "stdout",
     "output_type": "stream",
     "text": [
      "a=> [6 7 8 9]\n",
      "b=> [0 1 2 3]\n",
      "c=> [6 6 6 6]\n",
      "d=> [0 1 4 9]\n",
      "f=> [5 1 1 9 1]\n"
     ]
    }
   ],
   "source": [
    "import numpy as np\n",
    "a = np.array( [6, 7, 8, 9] )\n",
    "b = np.arange(4)\n",
    "c = a - b\n",
    "print(\"a=>\",a)\n",
    "print(\"b=>\",b)\n",
    "print(\"c=>\",c)\n",
    "d = b**2\n",
    "print(\"d=>\",d)\n",
    "f = np.array([5, -1, 3, 9, 0])\n",
    "f[f<=3] = 1\n",
    "print(\"f=>\",f)"
   ]
  },
  {
   "cell_type": "code",
   "execution_count": 16,
   "id": "4db9b919",
   "metadata": {},
   "outputs": [
    {
     "name": "stdout",
     "output_type": "stream",
     "text": [
      "[[1. 1. 1. 1.]\n",
      " [1. 1. 1. 1.]]\n",
      "----------------------------------------------------------------------\n",
      "[[6 6 6 6]\n",
      " [6 6 6 6]]\n",
      "----------------------------------------------------------------------\n"
     ]
    }
   ],
   "source": [
    "import numpy as np\n",
    "x = np.ones((2,4))\n",
    "print(x)\n",
    "print(\"-\"*70)\n",
    "x = np.full((2,4),6)\n",
    "print(x)\n",
    "print(\"-\"*70)"
   ]
  },
  {
   "cell_type": "markdown",
   "id": "c164c77a",
   "metadata": {},
   "source": [
    "## 陣列初始化與重新規劃\n",
    "+ 針對初始化這部分提供了多種方式：\n",
    "+ 不做初始化\n",
    "   + 例如：np.empty((2,4))\n",
    "+ 全部規劃為 0\n",
    "   + 例如：np.zeros((3,4))\n",
    "+　全部規劃為 1\n",
    "  + np.ones((5,2))\n",
    "+ 全部規劃／填滿為某數，例如 6\n",
    "   + 例如： np.full((3,3),6)\n",
    "+ 建立對角矩陣，對角皆為 1，其他為 0\n",
    "   + 例如： np.eye(3)\n",
    "+ 建立對角矩陣，對角為 1,2,3,4，其他為 0\n",
    "   + 例如： np.diag([1,2,3,4])\n",
    "+ reshape((x,y)) 這個指令就可以將現有的陣列  重新規劃為 x 乘以 y 的陣列。 \n",
    "+ np.arange(起始值, 結束值, 固定間隔)：也是產生一維陣列，和 np.array( ) 的差別在於 arange 擁有較大的彈性，而且元素數值是自動化產生。\n",
    "+ np.linspace(起始值, 結束值, 起始與結束的區間內要產生幾個元素 )：只要給定陣列的區間(起始值、結束值)，就可以要求在這個區間內產生幾個元素。\n",
    "+ arange(a,b,c)\n",
    "   + 不包含 b 由 a 開始 以固定間隔 c 來取值\n",
    "+ linspace(a,b,c,)\n",
    "   + 包含 b 由 a 開始 切割成 c 個資料\n",
    "+ linspace(a,b,c,endpoint=False)\n",
    "   + 不包含 b 由 a 開始 切割成 c 個資料"
   ]
  },
  {
   "cell_type": "markdown",
   "id": "69ded9fd",
   "metadata": {},
   "source": [
    "### empty zeros ones"
   ]
  },
  {
   "cell_type": "code",
   "execution_count": 1,
   "id": "dfef9025",
   "metadata": {},
   "outputs": [
    {
     "name": "stdout",
     "output_type": "stream",
     "text": [
      "[[0.000e+000 0.000e+000 0.000e+000 0.000e+000]\n",
      " [0.000e+000 6.443e-321 0.000e+000 0.000e+000]]\n",
      "----------------------------------------------------------------------\n",
      "[[0. 0. 0. 0.]\n",
      " [0. 0. 0. 0.]\n",
      " [0. 0. 0. 0.]]\n",
      "----------------------------------------------------------------------\n",
      "[[1. 1. 1. 1.]\n",
      " [1. 1. 1. 1.]]\n"
     ]
    }
   ],
   "source": [
    "import numpy as np\n",
    "x = np.empty((2,4))\n",
    "print(x)\n",
    "print(\"-\"*70)\n",
    "x = np.zeros((3,4))\n",
    "print(x)\n",
    "print(\"-\"*70)\n",
    "x = np.ones((2,4))\n",
    "print(x)"
   ]
  },
  {
   "cell_type": "markdown",
   "id": "92cc9cc6",
   "metadata": {},
   "source": [
    "### eye diag"
   ]
  },
  {
   "cell_type": "code",
   "execution_count": 3,
   "id": "32a0c50e",
   "metadata": {},
   "outputs": [
    {
     "name": "stdout",
     "output_type": "stream",
     "text": [
      "[[1. 0. 0.]\n",
      " [0. 1. 0.]\n",
      " [0. 0. 1.]]\n",
      "[[1 0 0 0]\n",
      " [0 2 0 0]\n",
      " [0 0 3 0]\n",
      " [0 0 0 4]]\n"
     ]
    }
   ],
   "source": [
    "import numpy as np\n",
    "x = np.eye(3)\n",
    "print(x)\n",
    "x = np.diag([1,2,3,4])\n",
    "print(x)"
   ]
  },
  {
   "cell_type": "markdown",
   "id": "d5fd58ec",
   "metadata": {},
   "source": [
    "### linspace arange"
   ]
  },
  {
   "cell_type": "code",
   "execution_count": 10,
   "id": "c6a99d5f",
   "metadata": {},
   "outputs": [
    {
     "name": "stdout",
     "output_type": "stream",
     "text": [
      "[ 1.   2.8  4.6  6.4  8.2 10. ]\n",
      "==============\n",
      "[[ 1.   2.8]\n",
      " [ 4.6  6.4]\n",
      " [ 8.2 10. ]]\n",
      "[[1.  2.5 4. ]\n",
      " [5.5 7.  8.5]]\n"
     ]
    }
   ],
   "source": [
    "import numpy as np\n",
    "x = np.linspace(1,10,6)\n",
    "print(x)\n",
    "print(\"==============\")\n",
    "x = np.linspace(1,10,6).reshape((3,2))\n",
    "print(x)\n",
    "x = np.linspace(1,10,6,endpoint=False).reshape((2,3))\n",
    "print(x)"
   ]
  },
  {
   "cell_type": "code",
   "execution_count": 11,
   "id": "8b0242e2",
   "metadata": {},
   "outputs": [
    {
     "name": "stdout",
     "output_type": "stream",
     "text": [
      "r1=> [25.  25.5 26.  26.5 27.  27.5 28.  28.5 29.  29.5]\n"
     ]
    }
   ],
   "source": [
    "import numpy as np\n",
    "r1 = np.arange(25, 30, .5)\n",
    "print(\"r1=>\",r1)"
   ]
  },
  {
   "cell_type": "code",
   "execution_count": 12,
   "id": "25599b13",
   "metadata": {},
   "outputs": [
    {
     "name": "stdout",
     "output_type": "stream",
     "text": [
      "r1=> [3.   3.25 3.5  3.75 4.   4.25 4.5  4.75 5.  ]\n"
     ]
    }
   ],
   "source": [
    "import numpy as np\n",
    "lin = np.linspace(3, 5, 9)#5-3/9-1\n",
    "print(\"r1=>\",lin)\n"
   ]
  },
  {
   "cell_type": "markdown",
   "id": "3a7b5fd3",
   "metadata": {},
   "source": [
    "## 陣列指定位置取值\n",
    "+ 間隔選取 [::c]\n",
    "  + 以 1 維陣列來說明 x[a:b:c]\n",
    "  + a：選取資料的起始索引\n",
    "  + b：選取資料的結束索引 +1\n",
    "  + c：選取資料間隔，以索引值可以被此值整除的元素，不指定表示 1\n",
    "+ 倒序 [::-1]\n",
    "  + 只是單純的把順序反過來"
   ]
  },
  {
   "cell_type": "markdown",
   "id": "2a234f6c",
   "metadata": {},
   "source": [
    "## 陣列指定位置-給予一個整數\n",
    "+ 關於指定位置  [row,column]\n",
    "+ 假設給予一個整數為 N\n",
    " + 如果是給固定的 N，那就代表 row 或 column 等於 N。\n",
    " + 如果是 N：，那就代表 row 或 column 大於等於 N 的區域。\n",
    " + 如果是：N，那就代表 row 或 column 小於 N 的區域。 \n",
    " + 如果是：，那就代表 row 或 column 是任意欄位"
   ]
  },
  {
   "cell_type": "code",
   "execution_count": 16,
   "id": "ae6c1dbd",
   "metadata": {},
   "outputs": [
    {
     "name": "stdout",
     "output_type": "stream",
     "text": [
      "[[1 2 3]\n",
      " [3 6 9]\n",
      " [2 4 6]]\n",
      "================\n",
      "[1 2 3]\n",
      "================\n",
      "9\n"
     ]
    }
   ],
   "source": [
    "import numpy as np\n",
    "a = np.array([[1,2,3],\n",
    "              [3,6,9],\n",
    "              [2,4,6]])\n",
    "print(a)\n",
    "print(\"================\")\n",
    "print(a[0])\n",
    "print(\"================\")\n",
    "print(a[1,2])"
   ]
  },
  {
   "cell_type": "code",
   "execution_count": 21,
   "id": "56970190",
   "metadata": {},
   "outputs": [
    {
     "name": "stdout",
     "output_type": "stream",
     "text": [
      "[[1 2 3]\n",
      " [4 5 6]\n",
      " [7 8 9]]\n",
      "==============================\n",
      "[5 6]\n",
      "==============================\n",
      "[2 5 8]\n",
      "==============================\n",
      "[[1 2 3]\n",
      " [4 5 6]\n",
      " [7 8 9]]\n",
      "==============================\n",
      "==============================\n",
      "[[ 1  2  3]\n",
      " [ 4  5 75]\n",
      " [ 7  8  9]]\n",
      "==============================\n",
      "[[100   2   3]\n",
      " [101   5  75]\n",
      " [102   8   9]]\n"
     ]
    }
   ],
   "source": [
    "import numpy as np\n",
    "a = np.arange(1,10).reshape((3,3))\n",
    "print(a)\n",
    "print(\"==============================\")\n",
    "print(a[1,1:3])\n",
    "print(\"==============================\")\n",
    "print(a[:,1])\n",
    "print(\"==============================\")\n",
    "print(a)\n",
    "print(\"==============================\")\n",
    "a[1,2] = 75\n",
    "print(\"==============================\")\n",
    "print(a)\n",
    "print(\"==============================\")\n",
    "a[:,0] = [100,101,102]\n",
    "print(a)"
   ]
  },
  {
   "cell_type": "code",
   "execution_count": 25,
   "id": "8c5a98d7",
   "metadata": {},
   "outputs": [
    {
     "name": "stdout",
     "output_type": "stream",
     "text": [
      "[[ 0  1  2  3  4  5]\n",
      " [ 6  7  8  9 10 11]\n",
      " [12 13 14 15 16 17]\n",
      " [18 19 20 21 22 23]\n",
      " [24 25 26 27 28 29]\n",
      " [30 31 32 33 34 35]]\n",
      "==1===\n",
      "[3 4]\n",
      "==2===\n",
      "[[28 29]\n",
      " [34 35]]\n",
      "==3===\n",
      "[[ 0  1  2]\n",
      " [ 6  7  8]\n",
      " [12 13 14]]\n",
      "==4===\n",
      "[ 2  8 14 20 26 32]\n"
     ]
    }
   ],
   "source": [
    "import numpy as np\n",
    "a=np.arange(0,36).reshape((6,6))\n",
    "print(a)\n",
    "print(\"==1===\")\n",
    "print(a[0,3:5])\n",
    "print(\"==2===\")\n",
    "print(a[4:,4:])\n",
    "print(\"==3===\")\n",
    "print(a[:3,:3])\n",
    "print(\"==4===\")\n",
    "print(a[:,2])"
   ]
  },
  {
   "cell_type": "markdown",
   "id": "5d82c356",
   "metadata": {},
   "source": [
    "## 重設新陣列\n",
    "+ resize 這個動作會依據原本的陣列再設定指定大小的新陣列。 \n",
    "+ resize 動作的參數如下：\n",
    "+ numpy.resize(arr1，shape1)\n",
    "  + arr1：原本的陣列\n",
    "  + shape1：新規劃的大小\n",
    "+ 如果規劃的新陣列比較大，將會重新複製原有陣列的資料，填滿新的儲存格。\n",
    "+ resize 這個動作***建立新的陣列***，而 reshape 則是依據原有的重新規劃，仍會受到原有陣列影響。\n",
    "+ transpose()轉置"
   ]
  },
  {
   "cell_type": "code",
   "execution_count": 26,
   "id": "8f3a3c9b",
   "metadata": {},
   "outputs": [
    {
     "name": "stdout",
     "output_type": "stream",
     "text": [
      "(2, 3)\n",
      "\n",
      "[[1 2]\n",
      " [3 4]\n",
      " [5 6]]\n",
      "(3, 2)\n",
      "[[  1 100]\n",
      " [  3   4]\n",
      " [  5   6]]\n",
      "(3, 2)\n",
      "(2, 3)\n"
     ]
    }
   ],
   "source": [
    "import numpy as np\n",
    "a = np.array([[1,2,3],\n",
    "              [4,5,6]])\n",
    "print(a.shape)\n",
    "print()\n",
    "b = a.reshape(3,2)\n",
    "print(b)\n",
    "print(b.shape)\n",
    "a[0,1] = 100\n",
    "print(b) # 會改變\n",
    "print(b.shape)\n",
    "print(a.shape)"
   ]
  },
  {
   "cell_type": "markdown",
   "id": "c9a465f0",
   "metadata": {},
   "source": [
    "### resize"
   ]
  },
  {
   "cell_type": "code",
   "execution_count": 27,
   "id": "733c9380",
   "metadata": {},
   "outputs": [
    {
     "name": "stdout",
     "output_type": "stream",
     "text": [
      "[[1 2 3]\n",
      " [4 5 6]]\n",
      "(2, 3)\n",
      "\n",
      "[[1 2]\n",
      " [3 4]\n",
      " [5 6]]\n",
      "(3, 2)\n",
      "\n",
      "[[1 2]\n",
      " [3 4]\n",
      " [5 6]]\n",
      "(3, 2)\n",
      "(2, 3)\n",
      "[[  1 100   3   4   5   6   1 100   3   4]\n",
      " [  5   6   1 100   3   4   5   6   1 100]\n",
      " [  3   4   5   6   1 100   3   4   5   6]\n",
      " [  1 100   3   4   5   6   1 100   3   4]\n",
      " [  5   6   1 100   3   4   5   6   1 100]\n",
      " [  3   4   5   6   1 100   3   4   5   6]\n",
      " [  1 100   3   4   5   6   1 100   3   4]\n",
      " [  5   6   1 100   3   4   5   6   1 100]\n",
      " [  3   4   5   6   1 100   3   4   5   6]\n",
      " [  1 100   3   4   5   6   1 100   3   4]]\n"
     ]
    }
   ],
   "source": [
    "import numpy as np\n",
    "a = np.array([[1,2,3],\n",
    "              [4,5,6]])\n",
    "print(a)\n",
    "print(a.shape)\n",
    "print()\n",
    "b = np.resize(a,(3,2))#資料內容會複製一份\n",
    "print(b)\n",
    "print(b.shape)\n",
    "print()\n",
    "a[0,1] = 100\n",
    "print(b)#不會改變\n",
    "print(b.shape)\n",
    "print(a.shape)\n",
    "b = np.resize(a,(10,10))#resize 大於原本size\n",
    "print(b)"
   ]
  },
  {
   "cell_type": "markdown",
   "id": "a3d621a6",
   "metadata": {},
   "source": [
    "### transpose"
   ]
  },
  {
   "cell_type": "code",
   "execution_count": 29,
   "id": "3315c1b1",
   "metadata": {},
   "outputs": [
    {
     "name": "stdout",
     "output_type": "stream",
     "text": [
      "================\n",
      "[[0 1 2 3 4]\n",
      " [5 6 7 8 9]]\n",
      "================\n",
      "[[0 5]\n",
      " [1 6]\n",
      " [2 7]\n",
      " [3 8]\n",
      " [4 9]]\n",
      "================\n",
      "[[0 1 2 3 4]\n",
      " [5 6 7 8 9]]\n",
      "================\n",
      "[[0 5]\n",
      " [1 6]\n",
      " [2 7]\n",
      " [3 8]\n",
      " [4 9]]\n"
     ]
    }
   ],
   "source": [
    "import numpy as np\n",
    "newArray = np.arange(10).reshape(2,5)\n",
    "print(\"================\")\n",
    "print(newArray)\n",
    "print(\"================\")\n",
    "print(newArray.transpose())\n",
    "print(\"================\")\n",
    "print(newArray) ## 原始陣列部會改變\n",
    "print(\"================\")\n",
    "tArray = newArray.T\n",
    "print(tArray)"
   ]
  },
  {
   "cell_type": "markdown",
   "id": "9fd64aba",
   "metadata": {},
   "source": [
    "### 總和sum()"
   ]
  },
  {
   "cell_type": "code",
   "execution_count": 30,
   "id": "0373fa53",
   "metadata": {},
   "outputs": [
    {
     "name": "stdout",
     "output_type": "stream",
     "text": [
      "[[ 0 30 45]\n",
      " [60 75 90]]\n",
      "---------------\n",
      "300\n",
      "---------------\n",
      "[ 60 105 135]\n",
      "---------------\n",
      "[ 75 225]\n",
      "---------------\n"
     ]
    }
   ],
   "source": [
    "import numpy as np\n",
    "a = np.array([[0, 30,45],\n",
    "              [60,75,90]])\n",
    "print(a)\n",
    "print(\"---------------\")\n",
    "b=np.sum(a)# 無選軸 每個元素相加\n",
    "print(b)\n",
    "print(\"---------------\")\n",
    "b=np.sum(a,axis=0) #拿row的陣列相加\n",
    "print(b)\n",
    "print(\"---------------\")\n",
    "b=np.sum(a,axis=1)#每個陣列的colum相加\n",
    "print(b)\n",
    "print(\"---------------\")"
   ]
  },
  {
   "cell_type": "code",
   "execution_count": null,
   "id": "30e961ae",
   "metadata": {},
   "outputs": [],
   "source": []
  }
 ],
 "metadata": {
  "kernelspec": {
   "display_name": "Python 3 (ipykernel)",
   "language": "python",
   "name": "python3"
  },
  "language_info": {
   "codemirror_mode": {
    "name": "ipython",
    "version": 3
   },
   "file_extension": ".py",
   "mimetype": "text/x-python",
   "name": "python",
   "nbconvert_exporter": "python",
   "pygments_lexer": "ipython3",
   "version": "3.8.16"
  }
 },
 "nbformat": 4,
 "nbformat_minor": 5
}
