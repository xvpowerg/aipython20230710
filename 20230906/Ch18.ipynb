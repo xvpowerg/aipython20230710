{
 "cells": [
  {
   "cell_type": "code",
   "execution_count": 6,
   "id": "a0f8b6cb",
   "metadata": {},
   "outputs": [
    {
     "name": "stdout",
     "output_type": "stream",
     "text": [
      "['蘋果' '橘子' '梨子' '櫻桃']\n",
      "[15 33 45 55]\n",
      "======================================================================\n",
      "0    15\n",
      "1    33\n",
      "2    45\n",
      "3    55\n",
      "dtype: int64\n",
      "======================================================================\n",
      "蘋果    15\n",
      "橘子    33\n",
      "梨子    45\n",
      "櫻桃    55\n",
      "dtype: int64\n",
      "======================================================================\n",
      "39.0\n",
      "======================================================================\n",
      "37.0\n",
      "======================================================================\n",
      "55\n",
      "======================================================================\n",
      "15\n",
      "======================================================================\n",
      "count     4.000000\n",
      "mean     37.000000\n",
      "std      17.204651\n",
      "min      15.000000\n",
      "25%      28.500000\n",
      "50%      39.000000\n",
      "75%      47.500000\n",
      "max      55.000000\n",
      "dtype: float64\n"
     ]
    }
   ],
   "source": [
    "import pandas as pd\n",
    "import numpy as np\n",
    "fruits = [\"蘋果\",\"橘子\",\"梨子\",\"櫻桃\"]\n",
    "price = [15,33,45,55]\n",
    "n1 = np.array(fruits)\n",
    "p1 = np.array(price)\n",
    "print(n1)\n",
    "print(p1)\n",
    "print(\"=\"*70)\n",
    "s1 = pd.Series(price)\n",
    "print(s1)\n",
    "print(\"=\"*70)\n",
    "s2 = pd.Series(price,index =fruits )\n",
    "print(s2)\n",
    "print(\"=\"*70)\n",
    "print(s1.median())\n",
    "print(\"=\"*70)\n",
    "print(s1.mean())\n",
    "print(\"=\"*70)\n",
    "print(s1.max())\n",
    "print(\"=\"*70)\n",
    "print(s1.min())\n",
    "print(\"=\"*70)\n",
    "print(s1.describe())"
   ]
  },
  {
   "cell_type": "code",
   "execution_count": 10,
   "id": "4509a10e",
   "metadata": {
    "scrolled": true
   },
   "outputs": [
    {
     "name": "stdout",
     "output_type": "stream",
     "text": [
      "{'Name': ['Tom', 'Jack', 'Steve', 'Ricky'], 'Age': [28, 34, 29, 42]}\n",
      "<class 'dict'>\n",
      "    Name  Age\n",
      "0    Tom   28\n",
      "1   Jack   34\n",
      "2  Steve   29\n",
      "3  Ricky   42\n",
      "         Name  Age\n",
      "score1    Tom   28\n",
      "score2   Jack   34\n",
      "score3  Steve   29\n",
      "score4  Ricky   42\n"
     ]
    }
   ],
   "source": [
    "import pandas as pd\n",
    "data = {\"Name\":[\"Tom\",\"Jack\",\"Steve\",\"Ricky\"],\n",
    "        \"Age\":[28,34,29,42]}\n",
    "print(data)\n",
    "print(type(data))\n",
    "df = pd.DataFrame(data)\n",
    "print(df)\n",
    "df2 = pd.DataFrame(data,index = [\"score1\",\"score2\",\"score3\",\"score4\"])\n",
    "print(df2)"
   ]
  },
  {
   "cell_type": "code",
   "execution_count": 14,
   "id": "fef08f7c",
   "metadata": {},
   "outputs": [
    {
     "name": "stdout",
     "output_type": "stream",
     "text": [
      "       0\n",
      "0    Tom\n",
      "1   Jack\n",
      "2  Steve\n",
      "3  Ricky\n",
      "         Name\n",
      "score1    Tom\n",
      "score2   Jack\n",
      "score3  Steve\n",
      "score4  Ricky\n"
     ]
    }
   ],
   "source": [
    "import pandas as pd\n",
    "data = [\"Tom\",\"Jack\",\"Steve\",\"Ricky\"]\n",
    "df = pd.DataFrame(data)\n",
    "print(df)\n",
    "df2 = pd.DataFrame(data,index = [\"score1\",\"score2\",\"score3\",\"score4\"] ,columns=[\"Name\"])\n",
    "print(df2)"
   ]
  },
  {
   "cell_type": "code",
   "execution_count": 15,
   "id": "3f08b7f3",
   "metadata": {},
   "outputs": [
    {
     "name": "stdout",
     "output_type": "stream",
     "text": [
      "     groups  numbers\n",
      "0    Python       59\n",
      "1    Django        9\n",
      "2    Sqlite       19\n",
      "3     Numpy       14\n",
      "4  Security        6\n",
      "5    Pandas       77\n"
     ]
    }
   ],
   "source": [
    "import  pandas as pd\n",
    "groups=['Python','Django','Sqlite','Numpy','Security','Pandas']\n",
    "numbers=[59,9,19,14,6,77]\n",
    "gDict = {\"groups\":groups,\"numbers\":numbers}\n",
    "df = pd.DataFrame(gDict)\n",
    "print(df)"
   ]
  },
  {
   "cell_type": "code",
   "execution_count": 18,
   "id": "d4c5b4f7",
   "metadata": {},
   "outputs": [
    {
     "name": "stdout",
     "output_type": "stream",
     "text": [
      "[[10 30]\n",
      " [20 40]]\n",
      "    0   1\n",
      "0  10  30\n",
      "1  20  40\n",
      "      col1  col2\n",
      "row1    10    30\n",
      "row2    20    40\n"
     ]
    }
   ],
   "source": [
    "import  pandas as pd\n",
    "import  numpy as np\n",
    "array1=np.array([[10,30],[20,40]])\n",
    "print(array1)\n",
    "df = pd.DataFrame(array1)\n",
    "print(df)\n",
    "df2 = pd.DataFrame(array1,columns=[\"col1\",\"col2\"],index=[\"row1\",\"row2\"])\n",
    "print(df2)"
   ]
  },
  {
   "cell_type": "code",
   "execution_count": 20,
   "id": "32ce5f0a",
   "metadata": {},
   "outputs": [
    {
     "name": "stdout",
     "output_type": "stream",
     "text": [
      "   one  two\n",
      "a  1.0    1\n",
      "b  2.0    2\n",
      "c  3.0    3\n",
      "d  NaN    4\n"
     ]
    }
   ],
   "source": [
    "import pandas as pd\n",
    "d = {\"one\":pd.Series([1,2,3],index=[\"a\",\"b\",\"c\"]),\n",
    "    \"two\":pd.Series([1,2,3,4],index=[\"a\",\"b\",\"c\",\"d\"])}\n",
    "df1 = pd.DataFrame(d)\n",
    "print(df1)"
   ]
  },
  {
   "cell_type": "markdown",
   "id": "b6fe51f4",
   "metadata": {},
   "source": [
    "## Pandas 讀取CSV"
   ]
  },
  {
   "cell_type": "code",
   "execution_count": 26,
   "id": "0d0b010c",
   "metadata": {},
   "outputs": [
    {
     "name": "stdout",
     "output_type": "stream",
     "text": [
      "   a   b   c   d          message\n",
      "0  1   2   3   4            hello\n",
      "1  5   6   7   8            world\n",
      "2  9  10  11  12  good　　　　　　　　　　　\n",
      "   0   1   2   3                4\n",
      "0  a   b   c   d          message\n",
      "1  1   2   3   4            hello\n",
      "2  5   6   7   8            world\n",
      "3  9  10  11  12  good　　　　　　　　　　　\n",
      "   a   b   c   d                e\n",
      "0  a   b   c   d          message\n",
      "1  1   2   3   4            hello\n",
      "2  5   6   7   8            world\n",
      "3  9  10  11  12  good　　　　　　　　　　　\n"
     ]
    }
   ],
   "source": [
    "import pandas as pd\n",
    "df1 = pd.read_csv(\"./ex1.csv\")\n",
    "print(df1)\n",
    "df2 = pd.read_csv(\"./ex1.csv\",header=None)\n",
    "print(df2)\n",
    "df3 = pd.read_csv(\"./ex1.csv\",names=list(\"abcde\"))\n",
    "print(df3)"
   ]
  },
  {
   "cell_type": "code",
   "execution_count": 35,
   "id": "52a39fee",
   "metadata": {},
   "outputs": [
    {
     "name": "stdout",
     "output_type": "stream",
     "text": [
      "{'Name': ['犇', '中文', '龘', 'Ricky'], 'Age': [28, 34, 29, 42]}\n",
      "    Name  Age\n",
      "0      犇   28\n",
      "1     中文   34\n",
      "2      龘   29\n",
      "3  Ricky   42\n"
     ]
    }
   ],
   "source": [
    "import  pandas as pd\n",
    "import  numpy as np\n",
    "#龘 (音踏)\n",
    "#犇(音奔)\n",
    "data={\n",
    "    'Name':['犇','中文','龘','Ricky'],\n",
    "    'Age':[28,34,29,42]\n",
    "}\n",
    "print(data)\n",
    "df = pd.DataFrame(data)\n",
    "print(df)\n",
    "df.to_csv(\"df1a.csv\",encoding=\"utf-8\")\n",
    "df.to_html(\"df1.html\")\n",
    "df.to_csv(\"df1b.csv\",index=False,encoding=\"utf-8\")"
   ]
  },
  {
   "cell_type": "code",
   "execution_count": 38,
   "id": "2f2d967a",
   "metadata": {},
   "outputs": [
    {
     "name": "stdout",
     "output_type": "stream",
     "text": [
      "Requirement already satisfied: xlrd in c:\\users\\xvpow\\anaconda3\\lib\\site-packages (1.2.0)\n"
     ]
    }
   ],
   "source": [
    "!pip install xlrd"
   ]
  },
  {
   "cell_type": "code",
   "execution_count": 45,
   "id": "160c04ed",
   "metadata": {},
   "outputs": [
    {
     "name": "stdout",
     "output_type": "stream",
     "text": [
      "{'Name': ['犇', '中文', '龘', 'Ricky'], 'Age': [28, 34, 29, 42]}\n"
     ]
    }
   ],
   "source": [
    "import  pandas as pd\n",
    "import  numpy as np\n",
    "#龘 (音踏)  犇(音奔)\n",
    "data={\n",
    "    'Name':['犇','中文','龘','Ricky'],\n",
    "    'Age':[28,34,29,42]\n",
    "}\n",
    "print(data)\n",
    "df=pd.DataFrame(data)\n",
    "writer=pd.ExcelWriter('df.xlsx')#輸出Excel\n",
    "df.to_excel(writer,'Sheet3')\n",
    "df1=pd.DataFrame(np.arange(9).reshape(3,3),\n",
    "                 index=['a','c','d'],\n",
    "                 columns=['One','Two','Three'])\n",
    "df1.to_excel(writer,'哈囉')\n",
    "writer.close()"
   ]
  },
  {
   "cell_type": "code",
   "execution_count": 46,
   "id": "efb0b7a5",
   "metadata": {},
   "outputs": [
    {
     "name": "stdout",
     "output_type": "stream",
     "text": [
      "   Unnamed: 0   Name  Age\n",
      "0           0      犇   28\n",
      "1           1     中文   34\n",
      "2           2      龘   29\n",
      "3           3  Ricky   42\n",
      "\n",
      "  Unnamed: 0  One  Two  Three\n",
      "0          a    0    1      2\n",
      "1          c    3    4      5\n",
      "2          d    6    7      8\n"
     ]
    }
   ],
   "source": [
    "import  pandas as pd\n",
    "import  numpy as np\n",
    "#龘 (音踏)\n",
    "#犇(音奔)\n",
    "df=pd.read_excel('df.xlsx')\n",
    "print(df)\n",
    "print()\n",
    "df=pd.read_excel('df.xlsx',1)\n",
    "print(df)"
   ]
  },
  {
   "cell_type": "markdown",
   "id": "f471bded",
   "metadata": {},
   "source": [
    "## 新增資料"
   ]
  },
  {
   "cell_type": "code",
   "execution_count": 56,
   "id": "a253a31a",
   "metadata": {},
   "outputs": [
    {
     "name": "stdout",
     "output_type": "stream",
     "text": [
      "   one  two\n",
      "a  1.0    1\n",
      "b  2.0    2\n",
      "c  3.0    3\n",
      "d  NaN    4\n",
      "   one  two  three\n",
      "a  1.0    1     10\n",
      "b  2.0    2     11\n",
      "c  3.0    3     12\n",
      "d  NaN    4     13\n",
      "   one  two  three\n",
      "a   20   21     22\n",
      "b   20   21     22\n",
      "c   20   21     22\n",
      "    one  two  three\n",
      "0   1.0    1     10\n",
      "1   2.0    2     11\n",
      "2   3.0    3     12\n",
      "3   NaN    4     13\n",
      "4  20.0   21     22\n",
      "5  20.0   21     22\n",
      "6  20.0   21     22\n",
      "   one  two  three\n",
      "a    4    1     10\n",
      "b    5    2     11\n",
      "c    6    3     12\n",
      "d    0    4     13\n"
     ]
    }
   ],
   "source": [
    "import pandas as pd\n",
    "d = {'one':pd.Series([1,2,3],index=['a','b','c']),\n",
    "     'two':pd.Series([1,2,3,4],index=['a','b','c','d'])}\n",
    "df1 = pd.DataFrame(d)\n",
    "print(df1)\n",
    "df1[\"three\"] = [10,11,12,13]\n",
    "print(df1)\n",
    "df2 = pd.DataFrame([[20, 21, 22]], columns=['one', 'two', 'three'],index=['a','b','c'])\n",
    "print(df2)\n",
    "df3 = pd.concat([df1,df2],ignore_index=True)\n",
    "print(df3)\n",
    "#修改one\n",
    "df1[\"one\"] = [4,5,6,0]\n",
    "print(df1)"
   ]
  },
  {
   "cell_type": "markdown",
   "id": "18ad1518",
   "metadata": {},
   "source": [
    "### 使用 loc(文字 m:n 會包含到n)\n",
    "+ .loc[ ], 中括弧裡面是先 row 後 column，以逗號分開。\n",
    "+ row 與 column 要放入的是 row 標籤與 column 標籤。\n",
    "+ 可於 row 或 column 加入「：」 ，代表指定起訖範圍。\n"
   ]
  },
  {
   "cell_type": "code",
   "execution_count": 69,
   "id": "70a89607",
   "metadata": {},
   "outputs": [
    {
     "name": "stdout",
     "output_type": "stream",
     "text": [
      "    s   t   u   v   w   x   y   z\n",
      "a   0   1   2   3   4   5   6   7\n",
      "b   8   9  10  11  12  13  14  15\n",
      "c  16  17  18  19  20  21  22  23\n",
      "d  24  25  26  27  28  29  30  31\n",
      "e  32  33  34  35  36  37  38  39\n",
      "f  40  41  42  43  44  45  46  47\n",
      "\n",
      "s    0\n",
      "t    1\n",
      "u    2\n",
      "v    3\n",
      "w    4\n",
      "x    5\n",
      "y    6\n",
      "z    7\n",
      "Name: a, dtype: int32\n",
      "1\n",
      "    w   x   y\n",
      "c  20  21  22\n",
      "d  28  29  30\n",
      "e  36  37  38\n",
      "    w   y\n",
      "c  20  22\n",
      "e  36  38\n",
      "a     5\n",
      "b    13\n",
      "c    21\n",
      "d    29\n",
      "e    37\n",
      "f    45\n",
      "Name: x, dtype: int32\n"
     ]
    }
   ],
   "source": [
    "import  pandas as pd\n",
    "import  numpy as np\n",
    "df=pd.DataFrame(\n",
    "    np.arange(48).reshape(6,8),\n",
    "    index=['a','b','c','d','e','f'],\n",
    "    columns=['s','t','u','v','w','x','y','z'])\n",
    "print(df)\n",
    "print()\n",
    "print(df.loc['a',:])\n",
    "print(df.loc['a','t'])\n",
    "print(df.loc['c':'e','w':'y'])\n",
    "print(df.loc[['c','e'],['w','y']])\n",
    "print(df.loc[:,'x'])"
   ]
  },
  {
   "cell_type": "markdown",
   "id": "c2813309",
   "metadata": {},
   "source": [
    "### 使用 iloc\n",
    "+ iloc[ ] 與 loc 一樣，中括弧裡面也是先 row 後 column，行列標籤用逗號分開。\n",
    "+ 與 loc 不同的之處是，.iloc 是根據索引來進行選擇。"
   ]
  },
  {
   "cell_type": "code",
   "execution_count": 76,
   "id": "83889e36",
   "metadata": {},
   "outputs": [
    {
     "name": "stdout",
     "output_type": "stream",
     "text": [
      "    s   t   u   v   w   x   y   z\n",
      "a   0   1   2   3   4   5   6   7\n",
      "b   8   9  10  11  12  13  14  15\n",
      "c  16  17  18  19  20  21  22  23\n",
      "d  24  25  26  27  28  29  30  31\n",
      "e  32  33  34  35  36  37  38  39\n",
      "f  40  41  42  43  44  45  46  47\n",
      "\n",
      "s     8\n",
      "t     9\n",
      "u    10\n",
      "v    11\n",
      "w    12\n",
      "x    13\n",
      "y    14\n",
      "z    15\n",
      "Name: b, dtype: int32\n",
      "==============\n",
      "20\n",
      "==============\n",
      "    w   y\n",
      "c  20  22\n",
      "e  36  38\n",
      "==============\n",
      "    w   x\n",
      "c  20  21\n",
      "d  28  29\n",
      "==============\n",
      "a     2\n",
      "b    10\n",
      "c    18\n",
      "d    26\n",
      "e    34\n",
      "f    42\n",
      "Name: u, dtype: int32\n",
      "a     5\n",
      "b    13\n",
      "c    21\n",
      "d    29\n",
      "e    37\n",
      "f    45\n",
      "Name: x, dtype: int32\n"
     ]
    }
   ],
   "source": [
    "import  pandas as pd\n",
    "import  numpy as np\n",
    "df=pd.DataFrame(\n",
    "    np.arange(48).reshape(6,8),\n",
    "    index=['a','b','c','d','e','f'],\n",
    "    columns=['s','t','u','v','w','x','y','z'])\n",
    "print(df)\n",
    "print()\n",
    "print(df.iloc[1,:])\n",
    "print(\"==============\")\n",
    "print(df.iloc[2,4])\n",
    "print(\"==============\")\n",
    "print(df.iloc[[2,4],[4,6]])\n",
    "print(\"==============\")\n",
    "print(df.iloc[2:4,4:6])\n",
    "print(\"==============\")\n",
    "print(df.iloc[:,2])\n",
    "print(df.iloc[:,-3])"
   ]
  },
  {
   "cell_type": "code",
   "execution_count": 77,
   "id": "eaddaab3",
   "metadata": {},
   "outputs": [
    {
     "name": "stdout",
     "output_type": "stream",
     "text": [
      "    s   t   u   v   w   x   y   z\n",
      "a   0   1   2   3   4   5   6   7\n",
      "b   8   9  10  11  12  13  14  15\n",
      "c  16  17  18  19  20  21  22  23\n",
      "d  24  25  26  27  28  29  30  31\n",
      "e  32  33  34  35  36  37  38  39\n",
      "f  40  41  42  43  44  45  46  47\n",
      "\n",
      "    w   x   y   z\n",
      "c  20  21  22  23\n",
      "d  28  29  30  31\n",
      "e  36  37  38  39\n",
      "f  44  45  46  47\n",
      "1---\n",
      "    s   t   u   v   w   x\n",
      "a   0   1   2   3   4   5\n",
      "b   8   9  10  11  12  13\n",
      "c  16  17  18  19  20  21\n",
      "d  24  25  26  27  28  29\n",
      "2---\n",
      "    w   x   y   z\n",
      "c  20  21  22  23\n",
      "d  28  29  30  31\n",
      "e  36  37  38  39\n",
      "f  44  45  46  47\n",
      "3---\n",
      "    s   t   u   v   w   x   y\n",
      "a   0   1   2   3   4   5   6\n",
      "b   8   9  10  11  12  13  14\n",
      "c  16  17  18  19  20  21  22\n",
      "d  24  25  26  27  28  29  30\n",
      "e  32  33  34  35  36  37  38\n",
      "4---\n"
     ]
    }
   ],
   "source": [
    "import  pandas as pd\n",
    "import  numpy as np\n",
    "df=pd.DataFrame(\n",
    "    np.arange(48).reshape(6,8),\n",
    "    index=['a','b','c','d','e','f'],\n",
    "    columns=['s','t','u','v','w','x','y','z'])\n",
    "print(df)\n",
    "print()\n",
    "print(df.iloc[2:,4:])\n",
    "print('1---')\n",
    "print(df.iloc[:4,:6])\n",
    "print('2---')\n",
    "print(df.loc['c':,'w':])\n",
    "print('3---')\n",
    "print(df.loc[:'e',:'y'])\n",
    "print('4---')"
   ]
  },
  {
   "cell_type": "code",
   "execution_count": 78,
   "id": "f6ab0166",
   "metadata": {},
   "outputs": [
    {
     "name": "stdout",
     "output_type": "stream",
     "text": [
      "    s   t   u   v   w   x   y   z\n",
      "a   0   1   2   3   4   5   6   7\n",
      "b   8   9  10  11  12  13  14  15\n",
      "c  16  17  18  19  20  21  22  23\n",
      "d  24  25  26  27  28  29  30  31\n",
      "e  32  33  34  35  36  37  38  39\n",
      "f  40  41  42  43  44  45  46  47\n",
      "\n",
      "    s   t   u   v   w\n",
      "d  24  25  26  27  28\n",
      "e  32  33  34  35  36\n",
      "f  40  41  42  43  44\n",
      "---1---\n",
      "    s   t   u   v   w   x\n",
      "d  24  25  26  27  28  29\n",
      "e  32  33  34  35  36  37\n",
      "f  40  41  42  43  44  45\n",
      "---2---\n"
     ]
    }
   ],
   "source": [
    "import  pandas as pd\n",
    "import  numpy as np\n",
    "df=pd.DataFrame(\n",
    "    np.arange(48).reshape(6,8),\n",
    "    index=['a','b','c','d','e','f'],\n",
    "    columns=['s','t','u','v','w','x','y','z']\n",
    ")\n",
    "print(df)\n",
    "print()\n",
    "print(df.iloc[3:,:5])\n",
    "print('---1---')\n",
    "print(df.loc['d':,:'x'])\n",
    "print('---2---')"
   ]
  },
  {
   "cell_type": "code",
   "execution_count": 79,
   "id": "8f9b71a1",
   "metadata": {},
   "outputs": [
    {
     "name": "stdout",
     "output_type": "stream",
     "text": [
      "    s   t   u   v   w   x   y   z\n",
      "a   0   1   2   3   4   5   6   7\n",
      "b   8   9  10  11  12  13  14  15\n",
      "c  16  17  18  19  20  21  22  23\n",
      "d  24  25  26  27  28  29  30  31\n",
      "e  32  33  34  35  36  37  38  39\n",
      "f  40  41  42  43  44  45  46  47\n",
      "\n",
      "    s   v   y\n",
      "a   0   3   6\n",
      "c  16  19  22\n",
      "e  32  35  38\n",
      "---1---\n",
      "    s   v   y\n",
      "a   0   3   6\n",
      "c  16  19  22\n",
      "e  32  35  38\n",
      "---2---\n"
     ]
    }
   ],
   "source": [
    "import  pandas as pd\n",
    "import  numpy as np\n",
    "df=pd.DataFrame(\n",
    "    np.arange(48).reshape(6,8),\n",
    "    index=['a','b','c','d','e','f'],\n",
    "    columns=['s','t','u','v','w','x','y','z']\n",
    ")\n",
    "print(df)\n",
    "print()\n",
    "print(df.iloc[::2,::3])#Row間隔2 Colum間隔3\n",
    "print('---1---')\n",
    "print(df.loc[::2,::3])\n",
    "print('---2---')"
   ]
  },
  {
   "cell_type": "code",
   "execution_count": 80,
   "id": "c0a853b2",
   "metadata": {},
   "outputs": [
    {
     "name": "stdout",
     "output_type": "stream",
     "text": [
      "    s   t   u   v   w   x   y   z\n",
      "a   0   1   2   3   4   5   6   7\n",
      "b   8   9  10  11  12  13  14  15\n",
      "c  16  17  18  19  20  21  22  23\n",
      "d  24  25  26  27  28  29  30  31\n",
      "e  32  33  34  35  36  37  38  39\n",
      "f  40  41  42  43  44  45  46  47\n",
      "\n",
      "    t   v   x\n",
      "b   9  11  13\n",
      "d  25  27  29\n",
      "f  41  43  45\n",
      "---1---\n",
      "    t   v   x\n",
      "b   9  11  13\n",
      "d  25  27  29\n",
      "f  41  43  45\n",
      "---2---\n"
     ]
    }
   ],
   "source": [
    "import  pandas as pd\n",
    "import  numpy as np\n",
    "df=pd.DataFrame(\n",
    "    np.arange(48).reshape(6,8),\n",
    "    index=['a','b','c','d','e','f'],\n",
    "    columns=['s','t','u','v','w','x','y','z']\n",
    ")\n",
    "print(df)\n",
    "print()\n",
    "print(df.iloc[1::2,1:7:2])\n",
    "print('---1---')\n",
    "print(df.loc['b'::2,'t':'y':2])\n",
    "print('---2---')"
   ]
  },
  {
   "cell_type": "code",
   "execution_count": 81,
   "id": "30b4ef71",
   "metadata": {},
   "outputs": [
    {
     "name": "stdout",
     "output_type": "stream",
     "text": [
      "    s   t   u   v   w   x   y   z\n",
      "a   0   1   2   3   4   5   6   7\n",
      "b   8   9  10  11  12  13  14  15\n",
      "c  16  17  18  19  20  21  22  23\n",
      "d  24  25  26  27  28  29  30  31\n",
      "e  32  33  34  35  36  37  38  39\n",
      "f  40  41  42  43  44  45  46  47\n",
      "\n",
      "    u   v   x\n",
      "a   2   3   5\n",
      "b  10  11  13\n",
      "c  18  19  21\n",
      "d  26  27  29\n",
      "e  34  35  37\n",
      "f  42  43  45\n",
      "---1---\n",
      "    t   x   z\n",
      "a   1   5   7\n",
      "b   9  13  15\n",
      "c  17  21  23\n",
      "d  25  29  31\n",
      "e  33  37  39\n",
      "f  41  45  47\n",
      "---2---\n"
     ]
    }
   ],
   "source": [
    "import  pandas as pd\n",
    "import  numpy as np\n",
    "df=pd.DataFrame(\n",
    "    np.arange(48).reshape(6,8),\n",
    "    index=['a','b','c','d','e','f'],\n",
    "    columns=['s','t','u','v','w','x','y','z']\n",
    ")\n",
    "print(df)\n",
    "print()\n",
    "print(df.iloc[:,[2,3,5]])\n",
    "print('---1---')\n",
    "print(df.loc[:,['t','x','z']])\n",
    "print('---2---')"
   ]
  },
  {
   "cell_type": "code",
   "execution_count": 82,
   "id": "d21b6ad0",
   "metadata": {},
   "outputs": [
    {
     "name": "stdout",
     "output_type": "stream",
     "text": [
      "    s   t   u   v   w   x   y   z\n",
      "a   0   1   2   3   4   5   6   7\n",
      "b   8   9  10  11  12  13  14  15\n",
      "c  16  17  18  19  20  21  22  23\n",
      "d  24  25  26  27  28  29  30  31\n",
      "e  32  33  34  35  36  37  38  39\n",
      "f  40  41  42  43  44  45  46  47\n",
      "\n",
      "    u   v   x\n",
      "b  10  11  13\n",
      "e  34  35  37\n",
      "---1---\n",
      "    t   x   z\n",
      "c  17  21  23\n",
      "f  41  45  47\n",
      "---2---\n"
     ]
    }
   ],
   "source": [
    "import  pandas as pd\n",
    "import  numpy as np\n",
    "df=pd.DataFrame(\n",
    "    np.arange(48).reshape(6,8),\n",
    "    index=['a','b','c','d','e','f'],\n",
    "    columns=['s','t','u','v','w','x','y','z']\n",
    ")\n",
    "print(df)\n",
    "print()\n",
    "print(df.iloc[[1,4],[2,3,5]])\n",
    "print('---1---')\n",
    "print(df.loc[['c','f'],['t','x','z']])\n",
    "print('---2---')"
   ]
  },
  {
   "cell_type": "code",
   "execution_count": null,
   "id": "28dbac54",
   "metadata": {},
   "outputs": [],
   "source": []
  }
 ],
 "metadata": {
  "kernelspec": {
   "display_name": "Python 3 (ipykernel)",
   "language": "python",
   "name": "python3"
  },
  "language_info": {
   "codemirror_mode": {
    "name": "ipython",
    "version": 3
   },
   "file_extension": ".py",
   "mimetype": "text/x-python",
   "name": "python",
   "nbconvert_exporter": "python",
   "pygments_lexer": "ipython3",
   "version": "3.8.16"
  }
 },
 "nbformat": 4,
 "nbformat_minor": 5
}
