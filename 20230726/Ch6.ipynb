{
 "cells": [
  {
   "cell_type": "markdown",
   "id": "84f67ef8",
   "metadata": {},
   "source": [
    "## 字串文字接龍"
   ]
  },
  {
   "cell_type": "code",
   "execution_count": 3,
   "id": "c2c9bf12",
   "metadata": {},
   "outputs": [
    {
     "name": "stdout",
     "output_type": "stream",
     "text": [
      "請輸入一個字串Python\n",
      "請輸入-n-開始的字串:new\n",
      "上一個字串是:Python-new\n",
      "請輸入-w-開始的字串:wowo\n",
      "上一個字串是:Python-new-wowo\n",
      "請輸入-o-開始的字串:open\n",
      "上一個字串是:Python-new-wowo-open\n",
      "請輸入-n-開始的字串:ee\n",
      "上一個字串是:Python-new-wowo-open\n",
      "請輸入-n-開始的字串:rr\n",
      "上一個字串是:Python-new-wowo-open\n",
      "請輸入-n-開始的字串:tt\n",
      "上一個字串是:Python-new-wowo-open\n",
      "請輸入-n-開始的字串:gg\n",
      "上一個字串是:Python-new-wowo-open\n",
      "請輸入-n-開始的字串:yy\n",
      "上一個字串是:Python-new-wowo-open\n"
     ]
    }
   ],
   "source": [
    "count = 0\n",
    "txt = input(\"請輸入一個字串\")\n",
    "strList = []\n",
    "msg = txt\n",
    "strList.append(txt)\n",
    "while count < 5:\n",
    "    tmpTxt = input(f\"請輸入-{txt[-1]}-開始的字串:\")  \n",
    "    if (tmpTxt[0] == txt[-1]):\n",
    "        txt = tmpTxt\n",
    "        #msg+=\"-\"+txt\n",
    "        strList.append(tmpTxt)\n",
    "        msg = \"-\".join(strList)\n",
    "    else:        \n",
    "        count+=1\n",
    "    print(f\"上一個字串是:{msg}\")  "
   ]
  },
  {
   "cell_type": "code",
   "execution_count": 4,
   "id": "30170fbc",
   "metadata": {},
   "outputs": [
    {
     "name": "stdout",
     "output_type": "stream",
     "text": [
      "請輸入一個字串Python\n",
      "請輸入-n-開始的字串:new\n",
      "上一個字串是:Python-new\n",
      "請輸入-w-開始的字串:wowo\n",
      "上一個字串是:Python-new-wowo\n",
      "請輸入-o-開始的字串:gg\n",
      "上一個字串是:Python-new-wowo\n",
      "請輸入-o-開始的字串:yyy\n",
      "上一個字串是:Python-new-wowo\n",
      "請輸入-o-開始的字串:ttt\n",
      "上一個字串是:Python-new-wowo\n",
      "請輸入-o-開始的字串:qq\n",
      "上一個字串是:Python-new-wowo\n",
      "請輸入-o-開始的字串:ccc\n",
      "上一個字串是:Python-new-wowo\n"
     ]
    }
   ],
   "source": [
    "count = 0\n",
    "txt = input(\"請輸入一個字串\")\n",
    "msg = txt\n",
    "while count < 5:\n",
    "    tmpTxt = input(f\"請輸入-{txt[-1]}-開始的字串:\")  \n",
    "    if (tmpTxt[0] == txt[-1]):\n",
    "        txt = tmpTxt\n",
    "        msg+=\"-\"+txt\n",
    "    else:        \n",
    "        count+=1\n",
    "    print(f\"上一個字串是:{msg}\")  "
   ]
  },
  {
   "cell_type": "markdown",
   "id": "6df10d80",
   "metadata": {},
   "source": [
    "## 複習ID的問題"
   ]
  },
  {
   "cell_type": "code",
   "execution_count": 9,
   "id": "aee515df",
   "metadata": {},
   "outputs": [
    {
     "name": "stdout",
     "output_type": "stream",
     "text": [
      "list1: 1969362878848\n",
      "list3: 1969362878848\n",
      "list1: ['A', 'B', 'C']\n",
      "list3: ['A', 'B', 'C']\n",
      "list1: ['A', 'B', 'C', 'f', 'g', 'h']\n",
      "list3: ['A', 'B', 'C', 'f', 'g', 'h']\n"
     ]
    }
   ],
   "source": [
    "list1 = [\"A\",\"B\",\"C\"]\n",
    "list2 = [\"f\",\"g\",\"h\"]\n",
    "list3 = list1\n",
    "print(\"list1:\",id(list1))\n",
    "print(\"list3:\",id(list3))\n",
    "\n",
    "print(\"list1:\",list1)\n",
    "print(\"list3:\",list3)\n",
    "list1 += list2\n",
    "#list1.extend(list2)\n",
    "print(\"list1:\",list1)\n",
    "print(\"list3:\",list3)"
   ]
  },
  {
   "cell_type": "code",
   "execution_count": 11,
   "id": "cdf17771",
   "metadata": {},
   "outputs": [
    {
     "name": "stdout",
     "output_type": "stream",
     "text": [
      "list1: 1969376418624\n",
      "list3: 1969376418624\n",
      "list1: ['A', 'B', 'C']\n",
      "list3: ['A', 'B', 'C']\n",
      "list1: 1969376417536\n",
      "list3: 1969376418624\n",
      "list1: ['A', 'B', 'C', 'f', 'g', 'h']\n",
      "list3: ['A', 'B', 'C']\n"
     ]
    }
   ],
   "source": [
    "list1 = [\"A\",\"B\",\"C\"]\n",
    "list2 = [\"f\",\"g\",\"h\"]\n",
    "list3 = list1\n",
    "print(\"list1:\",id(list1))\n",
    "print(\"list3:\",id(list3))\n",
    "\n",
    "print(\"list1:\",list1)\n",
    "print(\"list3:\",list3)\n",
    "list1 = list1 + list2\n",
    "print(\"list1:\",id(list1))\n",
    "print(\"list3:\",id(list3))\n",
    "\n",
    "print(\"list1:\",list1)\n",
    "print(\"list3:\",list3)\n"
   ]
  },
  {
   "cell_type": "markdown",
   "id": "9ae87717",
   "metadata": {},
   "source": [
    "## List取值"
   ]
  },
  {
   "cell_type": "code",
   "execution_count": 17,
   "id": "b21fb404",
   "metadata": {},
   "outputs": [
    {
     "name": "stdout",
     "output_type": "stream",
     "text": [
      "y\n",
      "['y', 't', 'h']\n",
      "['t', 'h', 'o']\n",
      "['n', 'o', 'h', 't', 'y', 'P']\n",
      "['o', 'h', 't']\n"
     ]
    }
   ],
   "source": [
    "list1 = [\"P\",\"y\",\"t\",\"h\",\"o\",\"n\"]\n",
    "print(list1[1])\n",
    "print(list1[1:4])\n",
    "\n",
    "print(list1[-4:-1])\n",
    "print(list1[::-1])\n",
    "print(list1[-2:-5:-1])"
   ]
  },
  {
   "cell_type": "markdown",
   "id": "bddcef64",
   "metadata": {},
   "source": [
    "## list 項目插入新資料\n",
    "+ list 可使用 insert 方式插入新的資料：\n",
    "   + list.insert(索引值，插入的資料)。\n",
    "   + 若索引值超出範圍則會改為 append 方式附加。"
   ]
  },
  {
   "cell_type": "code",
   "execution_count": 26,
   "id": "7af4345d",
   "metadata": {},
   "outputs": [
    {
     "name": "stdout",
     "output_type": "stream",
     "text": [
      "['this', 'is', 'list']\n",
      "['this', 'item', 'is', 'list']\n",
      "['First', 'this', 'item', 'is', 'list']\n",
      "['First', 'this', 'item', 'is', 'list', 'End']\n",
      "['Start', 'First', 'this', 'item', 'is', 'list', 'End']\n",
      "['Start', 'First', 'this', 'item', 'is', 'C', 'list', 'End']\n",
      "['Start', 'First', 'this', 'item', 'D', 'is', 'C', 'list', 'End']\n"
     ]
    }
   ],
   "source": [
    "list1 = [\"this\",\"is\",\"list\"]\n",
    "print(list1)\n",
    "list1.insert(1,\"item\")\n",
    "print(list1)\n",
    "list1.insert(0,\"First\")\n",
    "print(list1)\n",
    "list1.insert(888,\"End\")#超過index最大值插在最後\n",
    "print(list1)\n",
    "list1.insert(-55,\"Start\")#超過index最小值插在最前\n",
    "print(list1)\n",
    "list1.insert(-2,\"C\")\n",
    "print(list1)\n",
    "list1.insert(-4,\"D\")\n",
    "print(list1)"
   ]
  },
  {
   "cell_type": "markdown",
   "id": "c5f41f9a",
   "metadata": {},
   "source": [
    "## 移除 \n",
    "+ list 可透過以下三種方式移除項目：\n",
    "  + list.remove( )\n",
    "  + list.pop( )\n",
    "  + del list[ ]"
   ]
  },
  {
   "cell_type": "markdown",
   "id": "c4b081b1",
   "metadata": {},
   "source": [
    "### pop"
   ]
  },
  {
   "cell_type": "code",
   "execution_count": 39,
   "id": "ab9d8182",
   "metadata": {},
   "outputs": [
    {
     "name": "stdout",
     "output_type": "stream",
     "text": [
      "['Ken', 'Vivin', 'Lindy', 'Lucy']\n",
      "['Ken', 'Vivin', 'Lindy']\n",
      "Lucy\n",
      "['Vivin', 'Lindy']\n",
      "Ken\n",
      "pop: Vivin\n"
     ]
    }
   ],
   "source": [
    "list2 = [\"Ken\",\"Vivin\",\"Lindy\",\"Lucy\"]\n",
    "print(list2)\n",
    "v1 = list2.pop()#取出最後一筆\n",
    "print(list2)\n",
    "print(v1)\n",
    "v2 = list2.pop(0)\n",
    "print(list2)\n",
    "print(v2)\n",
    "#v3 = list2.pop(100)#錯誤超過index\n",
    "list2.pop()\n",
    "\n",
    "if len(list2):\n",
    "    print(\"pop:\",list2.pop())#pop from empty list\n",
    "    \n",
    "if len(list2):    \n",
    "    list2.pop()\n"
   ]
  },
  {
   "cell_type": "markdown",
   "id": "14d92397",
   "metadata": {},
   "source": [
    "###  remove"
   ]
  },
  {
   "cell_type": "code",
   "execution_count": 42,
   "id": "a9397c6b",
   "metadata": {},
   "outputs": [
    {
     "name": "stdout",
     "output_type": "stream",
     "text": [
      "['1', 'x', '2', 'x', '3']\n",
      "['1', '2', 'x', '3']\n"
     ]
    },
    {
     "ename": "ValueError",
     "evalue": "list.remove(x): x not in list",
     "output_type": "error",
     "traceback": [
      "\u001b[1;31m---------------------------------------------------------------------------\u001b[0m",
      "\u001b[1;31mValueError\u001b[0m                                Traceback (most recent call last)",
      "Cell \u001b[1;32mIn[42], line 6\u001b[0m\n\u001b[0;32m      4\u001b[0m \u001b[38;5;28mprint\u001b[39m(list2)\n\u001b[0;32m      5\u001b[0m list2\u001b[38;5;241m.\u001b[39mremove(\u001b[38;5;124m'\u001b[39m\u001b[38;5;124mx\u001b[39m\u001b[38;5;124m'\u001b[39m)\n\u001b[1;32m----> 6\u001b[0m \u001b[43mlist2\u001b[49m\u001b[38;5;241;43m.\u001b[39;49m\u001b[43mremove\u001b[49m\u001b[43m(\u001b[49m\u001b[38;5;124;43m'\u001b[39;49m\u001b[38;5;124;43mx\u001b[39;49m\u001b[38;5;124;43m'\u001b[39;49m\u001b[43m)\u001b[49m\n",
      "\u001b[1;31mValueError\u001b[0m: list.remove(x): x not in list"
     ]
    }
   ],
   "source": [
    "list2 = ['1','x','2','x','3']\n",
    "print(list2)\n",
    "list2.remove('x')\n",
    "print(list2)\n",
    "list2.remove('x')\n",
    "#list2.remove('x') #因為x已被移除所以出錯"
   ]
  },
  {
   "cell_type": "code",
   "execution_count": 44,
   "id": "fd967733",
   "metadata": {},
   "outputs": [
    {
     "name": "stdout",
     "output_type": "stream",
     "text": [
      "['1', '2', '3']\n"
     ]
    }
   ],
   "source": [
    "list2 = ['1','x','2','x','3']\n",
    "while True:\n",
    "    if 'x' in list2:\n",
    "        list2.remove('x')\n",
    "    else:\n",
    "        break\n",
    "print(list2)        "
   ]
  },
  {
   "cell_type": "markdown",
   "id": "47f4e620",
   "metadata": {},
   "source": [
    "### Del\n",
    "+ list 可透過 del 方式移除指定位置資料。\n",
    "+ del list[ ] 必須指定範圍：\n",
    "  + del list[n] 代表移除第 n 位索引值資料。\n",
    "  + del list[:m] 代表移除第 m 位索引值之前 ( 不包含 m ) 資料。\n",
    "  + del list[n:m] 代表移除第 n 到 m 位索引值之前 ( 不包含 m ) 資料。"
   ]
  },
  {
   "cell_type": "code",
   "execution_count": 47,
   "id": "86c7f57c",
   "metadata": {},
   "outputs": [
    {
     "name": "stdout",
     "output_type": "stream",
     "text": [
      "['A', 'B', 'C', 'D', 'E', 'F', 'G']\n",
      "['A', 'B', 'D', 'E', 'F', 'G']\n",
      "['A', 'B', 'G']\n"
     ]
    }
   ],
   "source": [
    "list3 = ['A','B','C','D',\"E\",\"F\",\"G\"]\n",
    "print(list3)\n",
    "del list3[2]\n",
    "print(list3)\n",
    "del list3[2:5]\n",
    "print(list3)"
   ]
  },
  {
   "cell_type": "markdown",
   "id": "3463c798",
   "metadata": {},
   "source": [
    "## List生成器"
   ]
  },
  {
   "cell_type": "code",
   "execution_count": 49,
   "id": "36881091",
   "metadata": {},
   "outputs": [
    {
     "name": "stdout",
     "output_type": "stream",
     "text": [
      "[1, 2, 3, 4, 5, 6, 7, 8, 9, 10, 11, 12, 13, 14, 15, 16, 17, 18, 19, 20, 21, 22, 23, 24, 25, 26, 27, 28, 29, 30]\n"
     ]
    }
   ],
   "source": [
    "##希望有一個mylist內容是1~30數值\n",
    "myList = []\n",
    "for i in range(1,31):\n",
    "    myList.append(i)\n",
    "print(myList)"
   ]
  },
  {
   "cell_type": "code",
   "execution_count": 50,
   "id": "cda38270",
   "metadata": {},
   "outputs": [
    {
     "name": "stdout",
     "output_type": "stream",
     "text": [
      "[1, 2, 3, 4, 5, 6, 7, 8, 9, 10, 11, 12, 13, 14, 15, 16, 17, 18, 19, 20, 21, 22, 23, 24, 25, 26, 27, 28, 29, 30]\n"
     ]
    }
   ],
   "source": [
    "myList = [v for v in range(1,31)]\n",
    "print(myList)"
   ]
  },
  {
   "cell_type": "code",
   "execution_count": 52,
   "id": "ce360ce2",
   "metadata": {},
   "outputs": [
    {
     "name": "stdout",
     "output_type": "stream",
     "text": [
      "[2, 4, 6, 8, 10]\n"
     ]
    }
   ],
   "source": [
    "myList2 = [i for i in range(1,11) if i %2 == 0 ]\n",
    "print(myList2)"
   ]
  },
  {
   "cell_type": "markdown",
   "id": "e3e13bc7",
   "metadata": {},
   "source": [
    "## isinstance\n",
    "\n",
    "isinstance(x,int) 代表判斷x是否為int型態\n",
    "\n",
    "list若要進行排序得先挑選出相同型態資料。\n",
    "\n",
    "請使用isinstance(資料,資料型態)方式於list中撈出特定資料。\n",
    "\n",
    "list2a=[x for x in list2 if isinstance(x,int)]\n",
    "\n",
    "這樣的寫法的目的\n",
    "\n",
    "避免程式流程受到外面的干擾\n",
    "\n",
    "流程單純化，list的資料變化就在list區域內進行\n",
    "\n",
    "促進語法的可讀性提高!"
   ]
  },
  {
   "cell_type": "code",
   "execution_count": 59,
   "id": "b9cf0a0b",
   "metadata": {},
   "outputs": [
    {
     "name": "stdout",
     "output_type": "stream",
     "text": [
      "['x', 1, 'y', 2, 'z', 3]\n",
      "['x', 'y', 'z']\n",
      "[1, 2, 3]\n"
     ]
    }
   ],
   "source": [
    "myList3 = ['x',1,'y',2,'z',3]\n",
    "print(myList3)\n",
    "myList3Str = [ v for v in myList3 if isinstance(v,str)]\n",
    "print(myList3Str)\n",
    "myList3Int = [v for v in myList3 if isinstance(v,int)]\n",
    "print(myList3Int)"
   ]
  },
  {
   "cell_type": "code",
   "execution_count": 66,
   "id": "0caf7275",
   "metadata": {},
   "outputs": [
    {
     "name": "stdout",
     "output_type": "stream",
     "text": [
      "[[1, 2], [1, 2], [1, 2]]\n"
     ]
    }
   ],
   "source": [
    "myList3x2 = []\n",
    "for i in range(1,4):\n",
    "    itemList = []\n",
    "    for k in range(1,3):\n",
    "        itemList.append(k)\n",
    "    myList3x2.append(itemList)\n",
    "print(myList3x2)    "
   ]
  },
  {
   "cell_type": "code",
   "execution_count": 70,
   "id": "34969ad8",
   "metadata": {},
   "outputs": [
    {
     "name": "stdout",
     "output_type": "stream",
     "text": [
      "[[1, 2], [1, 2], [1, 2]]\n"
     ]
    }
   ],
   "source": [
    "list3x2 = [[i for i in range(1,3)] for v in range(1,4) ]\n",
    "print(list3x2)"
   ]
  },
  {
   "cell_type": "markdown",
   "id": "f5cfa161",
   "metadata": {},
   "source": [
    "## zip"
   ]
  },
  {
   "cell_type": "code",
   "execution_count": 77,
   "id": "bf6860cd",
   "metadata": {},
   "outputs": [
    {
     "name": "stdout",
     "output_type": "stream",
     "text": [
      "Ken 25\n",
      "Vivin 18\n",
      "Lindy 23\n",
      "=========================\n",
      "Ken 25\n",
      "Vivin 18\n",
      "Lindy 23\n"
     ]
    }
   ],
   "source": [
    "names=[\"Ken\",\"Vivin\",\"Lindy\"]\n",
    "age = [25,18,23]\n",
    "for i in range(len(names)):\n",
    "    print(names[i],age[i])\n",
    "#print(list(zip(names,age)) )\n",
    "#a1,a2 = (10,25)\n",
    "#print(a1,a2)\n",
    "print(\"=========================\")\n",
    "for n,a in zip(names,age):\n",
    "    print(n,a)"
   ]
  },
  {
   "cell_type": "markdown",
   "id": "fc2c5db8",
   "metadata": {},
   "source": [
    "## Sort\n",
    "+ list 進行排序有 sorted( ) 與 sort( ) 兩個動作。\n",
    "+ 兩者差異：\n",
    "  + sorted()\n",
    "    + 不會影響 list 本身結構，且可以輸出結果。\n",
    "    + sorted(list項目)。\n",
    "    + sorted( ) 可用來排序任何項目。\n",
    "+ sort()\n",
    "    + 會影響 list 本身結構，且不可以於操作這個動作時進行輸出。\n",
    "    + list.sort( )。\n",
    "    + sort( ) 只能用在list上排序。"
   ]
  },
  {
   "cell_type": "markdown",
   "id": "40d4c0e5",
   "metadata": {},
   "source": [
    "### 排序原則與參數\n",
    "+ 排序原則：\n",
    "  + 數字則依照大小排序。\n",
    "  + 字串則依照 ASCII 編碼順序進行排序。\n",
    "+ 可加入的參數：\n",
    "   + reverse=True  \n",
    "     + 有這個參數由大到小排序\n",
    "     + 若沒有這個參數則由小到大排序\n",
    "+ key=len\n",
    "     + 依照 list 內元素字串長度進行排序\n",
    "+ key=str.upper\n",
    "     + 將 list 內元素轉換為大寫，再依照 ASCII 編碼順序進行排序\n",
    "+ key=str.lower\n",
    "     + 將 list 內元素轉換為小寫，再依照 ASCII 編碼順序進行排序"
   ]
  },
  {
   "cell_type": "code",
   "execution_count": 83,
   "id": "415df57a",
   "metadata": {},
   "outputs": [
    {
     "name": "stdout",
     "output_type": "stream",
     "text": [
      "[3, 4, 5, 12, 33]\n",
      "[12, 5, 3, 4, 33]\n",
      "[3, 4, 5, 12, 33]\n"
     ]
    }
   ],
   "source": [
    "list2 = [12,5,3,4,33]\n",
    "newList = sorted(list2)#不會改變list\n",
    "print(newList)\n",
    "print(list2)\n",
    "\n",
    "list2.sort()#會改變list\n",
    "print(list2)"
   ]
  },
  {
   "cell_type": "code",
   "execution_count": null,
   "id": "958df9d6",
   "metadata": {},
   "outputs": [],
   "source": []
  }
 ],
 "metadata": {
  "kernelspec": {
   "display_name": "Python 3 (ipykernel)",
   "language": "python",
   "name": "python3"
  },
  "language_info": {
   "codemirror_mode": {
    "name": "ipython",
    "version": 3
   },
   "file_extension": ".py",
   "mimetype": "text/x-python",
   "name": "python",
   "nbconvert_exporter": "python",
   "pygments_lexer": "ipython3",
   "version": "3.8.16"
  }
 },
 "nbformat": 4,
 "nbformat_minor": 5
}
