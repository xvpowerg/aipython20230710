{
 "cells": [
  {
   "cell_type": "markdown",
   "id": "40e912fb",
   "metadata": {},
   "source": [
    "## 作業1"
   ]
  },
  {
   "cell_type": "code",
   "execution_count": 2,
   "id": "7d32e4e5",
   "metadata": {},
   "outputs": [
    {
     "name": "stdout",
     "output_type": "stream",
     "text": [
      "請輸入水果(Enter結束)蘋果\n",
      "蘋果在清單內在第1\n",
      "請輸入水果(Enter結束)橘子\n",
      "橘子在清單內在第2\n",
      "請輸入水果(Enter結束)\n"
     ]
    }
   ],
   "source": [
    "fruits = [\"香蕉\",\"蘋果\",\"橘子\",\"西瓜\"]\n",
    "while True:\n",
    "    fruit = input(\"請輸入水果(Enter結束)\")\n",
    "    if fruit == \"\":\n",
    "        break\n",
    "    n = fruits.count(fruit)\n",
    "    if n == 0:\n",
    "        print(f\"{fruit}不在清單內\")\n",
    "    else:\n",
    "        n = fruits.index(fruit)\n",
    "        print(f\"{fruit}在清單內在第{n}\")"
   ]
  },
  {
   "cell_type": "markdown",
   "id": "f70dd3d7",
   "metadata": {},
   "source": [
    "## 作業2\n",
    "## 輸入四個月的支出金額後列出最多與最少的支出金額。"
   ]
  },
  {
   "cell_type": "code",
   "execution_count": 4,
   "id": "3b7daf13",
   "metadata": {},
   "outputs": [
    {
     "name": "stdout",
     "output_type": "stream",
     "text": [
      "請輸入1個月的支出金額1000\n",
      "請輸入2個月的支出金額2000\n",
      "請輸入3個月的支出金額3000\n",
      "請輸入4個月的支出金額4000\n",
      "max:4000\n",
      "min:1000\n",
      "10000\n",
      "[1000, 2000, 3000, 4000]\n",
      "10000\n",
      "4000\n",
      "1000\n"
     ]
    }
   ],
   "source": [
    "priceList=[]\n",
    "priceSum = 0\n",
    "for i in range(1,5):\n",
    "    p = int(input(f\"請輸入{i}個月的支出金額\"))\n",
    "    priceSum = priceSum + p\n",
    "    priceList.append(p)\n",
    "priceList.sort()   \n",
    "\n",
    "min(priceList)\n",
    "print(f\"max:{priceList[len(priceList)-1]}\") \n",
    "print(f\"min:{priceList[0]}\")\n",
    "print(priceSum)    \n",
    "print(priceList) \n",
    "\n",
    "print(sum(priceList))\n",
    "print(max(priceList))    \n",
    "print(min(priceList)) "
   ]
  },
  {
   "cell_type": "markdown",
   "id": "0c92ae79",
   "metadata": {},
   "source": [
    "## 輸出格式"
   ]
  },
  {
   "cell_type": "code",
   "execution_count": 15,
   "id": "bd4500ad",
   "metadata": {},
   "outputs": [
    {
     "name": "stdout",
     "output_type": "stream",
     "text": [
      "姓名:Ken 年齡:16 身高:178.57\n"
     ]
    }
   ],
   "source": [
    "name = \"Ken\"\n",
    "age = 16\n",
    "height = 178.56789\n",
    "msg2 = f\"姓名:{name} 年齡:{age} 身高:{height:.2f}\"\n",
    "print(msg2)\n"
   ]
  },
  {
   "cell_type": "markdown",
   "id": "1576868e",
   "metadata": {},
   "source": [
    "## 自訂函數進階操作"
   ]
  },
  {
   "cell_type": "code",
   "execution_count": 19,
   "id": "e0bf8d5a",
   "metadata": {},
   "outputs": [
    {
     "name": "stdout",
     "output_type": "stream",
     "text": [
      "Name: Ken\n",
      "Age: 25\n",
      "Name: 99\n",
      "Age: Vivin\n"
     ]
    },
    {
     "ename": "TypeError",
     "evalue": "printInfo() missing 1 required positional argument: 'age'",
     "output_type": "error",
     "traceback": [
      "\u001b[1;31m---------------------------------------------------------------------------\u001b[0m",
      "\u001b[1;31mTypeError\u001b[0m                                 Traceback (most recent call last)",
      "Cell \u001b[1;32mIn[19], line 6\u001b[0m\n\u001b[0;32m      4\u001b[0m printInfo(\u001b[38;5;124m\"\u001b[39m\u001b[38;5;124mKen\u001b[39m\u001b[38;5;124m\"\u001b[39m,\u001b[38;5;241m25\u001b[39m)    \n\u001b[0;32m      5\u001b[0m printInfo(\u001b[38;5;241m99\u001b[39m,\u001b[38;5;124m\"\u001b[39m\u001b[38;5;124mVivin\u001b[39m\u001b[38;5;124m\"\u001b[39m) \n\u001b[1;32m----> 6\u001b[0m \u001b[43mprintInfo\u001b[49m\u001b[43m(\u001b[49m\u001b[38;5;124;43m\"\u001b[39;49m\u001b[38;5;124;43mLucy\u001b[39;49m\u001b[38;5;124;43m\"\u001b[39;49m\u001b[43m)\u001b[49m\n",
      "\u001b[1;31mTypeError\u001b[0m: printInfo() missing 1 required positional argument: 'age'"
     ]
    }
   ],
   "source": [
    "def printInfo(name,age):\n",
    "    print(\"Name:\",name)\n",
    "    print(\"Age:\",age)\n",
    "printInfo(\"Ken\",25)    \n",
    "printInfo(99,\"Vivin\") \n",
    "printInfo(\"Lucy\") "
   ]
  },
  {
   "cell_type": "code",
   "execution_count": 24,
   "id": "b8a79752",
   "metadata": {},
   "outputs": [
    {
     "name": "stdout",
     "output_type": "stream",
     "text": [
      "Name: may\n",
      "Age: 20\n",
      "==========================\n",
      "Name: 19\n",
      "Age: Ken\n",
      "==========================\n",
      "Name: Vivin\n",
      "Age: 20\n",
      "==========================\n",
      "Name: Iris\n",
      "Age: 10\n",
      "==========================\n"
     ]
    }
   ],
   "source": [
    "def printInfo2(name=\"may\",age=20):\n",
    "    print(\"Name:\",name)\n",
    "    print(\"Age:\",age)\n",
    "    print(\"==========================\")\n",
    "printInfo2()\n",
    "printInfo2(19,\"Ken\")\n",
    "printInfo2(\"Vivin\")\n",
    "printInfo2(\"Iris\",10)"
   ]
  },
  {
   "cell_type": "code",
   "execution_count": 33,
   "id": "4eb51dc4",
   "metadata": {},
   "outputs": [
    {
     "name": "stdout",
     "output_type": "stream",
     "text": [
      "Name: Ken\n",
      "Age: 18\n",
      "Height: 200\n",
      "Weight: 65\n"
     ]
    }
   ],
   "source": [
    "#只要參數給了預設值之後都要有預設值\n",
    "# 順序 沒有預設值 有預設值\n",
    "def printInfo3(name=\"Ken\",age=10,h=0,w=0 ):\n",
    "    print(\"Name:\",name)\n",
    "    print(\"Age:\",age)\n",
    "    print(\"Height:\",h)\n",
    "    print(\"Weight:\",w)\n",
    "printInfo3(\"Ken\",18,200,65)    "
   ]
  },
  {
   "cell_type": "code",
   "execution_count": 46,
   "id": "e2e11da8",
   "metadata": {},
   "outputs": [
    {
     "name": "stdout",
     "output_type": "stream",
     "text": [
      "Name: Vivin\n",
      "Age: 10\n",
      "Height: 120\n",
      "Weight: 30\n",
      "=========================\n",
      "Name: Iris\n",
      "Age: 10\n",
      "Height: 120\n",
      "Weight: 30\n",
      "=========================\n"
     ]
    }
   ],
   "source": [
    "def printInfo3(name=\"Ken\",age=10,h=0,w=0 ):\n",
    "    print(\"Name:\",name)\n",
    "    print(\"Age:\",age)\n",
    "    print(\"Height:\",h)\n",
    "    print(\"Weight:\",w)\n",
    "    print(\"=========================\")\n",
    "printInfo3(\"Vivin\",w = 30,h = 120)    \n",
    "printInfo3(\"Iris\",w = 30,h = 120)    "
   ]
  },
  {
   "cell_type": "markdown",
   "id": "2092ac6e",
   "metadata": {},
   "source": [
    "### 不固定接收數量\n",
    "\n",
    "( ) 內接收資料若是以 * 表示代表可以引入不定數量的參數：\n",
    "\n",
    "一個*代表以 tuple 的方式引入\n",
    "\n",
    "兩個*代表以 dict 的方式引入\n",
    "\n",
    "接收資料若需加入多個設定，這些設定請依照順序排列：\n",
    "\n",
    "第一個參數設定為接收值 \n",
    "\n",
    "第二個參數設定為初始值\n",
    "\n",
    "第三個參數設定為不固定值，可以是 tuple 或 dict 方式"
   ]
  },
  {
   "cell_type": "code",
   "execution_count": 44,
   "id": "bfefa7c2",
   "metadata": {},
   "outputs": [
    {
     "name": "stdout",
     "output_type": "stream",
     "text": [
      "age1: 1\n",
      "age2: default\n",
      "=======================\n",
      "age1: 1\n",
      "age2: 2\n",
      "=======================\n",
      "age1: 1\n",
      "age2: 2\n",
      "v: 3\n",
      "=======================\n",
      "age1: 1\n",
      "age2: 2\n",
      "v: 3\n",
      "v: 4\n",
      "=======================\n"
     ]
    }
   ],
   "source": [
    "def fun1(ag1,ag2 = \"default\",*ag3):\n",
    "    print(\"age1:\",ag1)\n",
    "    print(\"age2:\",ag2)\n",
    "    for v in ag3:\n",
    "        print(\"v:\",v)\n",
    "    print(\"=======================\")    \n",
    "fun1(1)\n",
    "fun1(1,2)\n",
    "fun1(1,2,3)\n",
    "fun1(1,2,3,4)"
   ]
  },
  {
   "cell_type": "code",
   "execution_count": 79,
   "id": "b01534f4",
   "metadata": {
    "scrolled": true
   },
   "outputs": [
    {
     "name": "stdout",
     "output_type": "stream",
     "text": [
      "title: MyStudent:\n",
      "('Ken', 'Vivin', 'Joy')\n",
      "Ken\n",
      "Vivin\n",
      "Joy\n",
      "title: 水果\n",
      "('Apple', 'Banana', 'Kiwi')\n",
      "Apple\n",
      "Banana\n",
      "Kiwi\n"
     ]
    }
   ],
   "source": [
    "def fun1_2(title=\"title\",*ag3):\n",
    "    print(\"title:\",title)\n",
    "    print(ag3)\n",
    "    for ag in ag3:\n",
    "        print(ag)\n",
    "fun1_2(\"MyStudent:\",\"Ken\",\"Vivin\",\"Joy\")\n",
    "fruits = [\"Apple\",\"Banana\",\"Kiwi\"]\n",
    "fun1_2(\"水果\",*fruits)#*fruits 展開fruits的內容"
   ]
  },
  {
   "cell_type": "code",
   "execution_count": 77,
   "id": "1c0093b2",
   "metadata": {},
   "outputs": [
    {
     "name": "stdout",
     "output_type": "stream",
     "text": [
      "title: title\n",
      "('MyStudent:', 'Ken', 'Vivin', 'Joy')\n",
      "MyStudent:\n",
      "Ken\n",
      "Vivin\n",
      "Joy\n",
      "title: 水果\n",
      "('Apple', 'Banana', 'Kiwi')\n",
      "Apple\n",
      "Banana\n",
      "Kiwi\n"
     ]
    }
   ],
   "source": [
    "def fun1_2(*ag3,title=\"title\"):\n",
    "    print(\"title:\",title)\n",
    "    print(ag3)\n",
    "    for ag in ag3:\n",
    "        print(ag)\n",
    "fun1_2(\"MyStudent:\",\"Ken\",\"Vivin\",\"Joy\")\n",
    "fruits = [\"Apple\",\"Banana\",\"Kiwi\"]\n",
    "fun1_2(*fruits,title=\"水果\")#*fruits 展開fruits的內容"
   ]
  },
  {
   "cell_type": "code",
   "execution_count": 92,
   "id": "a500f85b",
   "metadata": {},
   "outputs": [
    {
     "name": "stdout",
     "output_type": "stream",
     "text": [
      "1\n",
      "default\n",
      "======================\n",
      "1\n",
      "2\n",
      "======================\n",
      "1\n",
      "2\n",
      "name:Ken\n",
      "age:18\n",
      "======================\n"
     ]
    }
   ],
   "source": [
    "def fun2(arg1,arg2 = \"default\",**arg4):\n",
    "    print(arg1)\n",
    "    print(arg2)\n",
    "    for k in arg4:\n",
    "        print(f\"{k}:{arg4[k]}\")\n",
    "    print(\"======================\")    \n",
    "fun2(1)\n",
    "fun2(1,2)\n",
    "fun2(1,2,name=\"Ken\",age=18)"
   ]
  },
  {
   "cell_type": "code",
   "execution_count": 97,
   "id": "43631b42",
   "metadata": {},
   "outputs": [
    {
     "name": "stdout",
     "output_type": "stream",
     "text": [
      "10\n",
      "24\n"
     ]
    }
   ],
   "source": [
    "def calculate(*values,**args):\n",
    "    cType = \"+\"\n",
    "    if  \"cType\" in args:\n",
    "        cType = args[\"cType\"]\n",
    "    \n",
    "    result = 0\n",
    "    if cType == \"*\":\n",
    "        result = 1\n",
    "        \n",
    "    for v in values:\n",
    "        if cType == \"+\":\n",
    "            result += v\n",
    "        elif cType == \"*\":\n",
    "            result *= v\n",
    "    return  result\n",
    "\n",
    "print(calculate(1,2,3,4))\n",
    "print(calculate(1,2,3,4,cType = \"*\"))"
   ]
  },
  {
   "cell_type": "code",
   "execution_count": 102,
   "id": "dbc4a1da",
   "metadata": {},
   "outputs": [
    {
     "name": "stdout",
     "output_type": "stream",
     "text": [
      "301\n",
      "3\n",
      "12\n"
     ]
    }
   ],
   "source": [
    "#arg1 一定要填\n",
    "#arg2\n",
    "#arg3\n",
    "#會把傳入的參數加起來\n",
    "def fun3(arg1,arg2 = 300,*arg3):\n",
    "    sum1 = 0\n",
    "    sum1 += arg1\n",
    "    sum1 += arg2\n",
    "    for arg in arg3:\n",
    "        sum1 += arg\n",
    "    #print(sum1)    \n",
    "    return sum1\n",
    "print(fun3(1))#輸出301\n",
    "print(fun3(1,2))#輸出3\n",
    "print(fun3(1,2,4,5)) #輸出12"
   ]
  },
  {
   "cell_type": "code",
   "execution_count": null,
   "id": "9d22190e",
   "metadata": {},
   "outputs": [],
   "source": []
  }
 ],
 "metadata": {
  "kernelspec": {
   "display_name": "Python 3 (ipykernel)",
   "language": "python",
   "name": "python3"
  },
  "language_info": {
   "codemirror_mode": {
    "name": "ipython",
    "version": 3
   },
   "file_extension": ".py",
   "mimetype": "text/x-python",
   "name": "python",
   "nbconvert_exporter": "python",
   "pygments_lexer": "ipython3",
   "version": "3.8.16"
  }
 },
 "nbformat": 4,
 "nbformat_minor": 5
}
