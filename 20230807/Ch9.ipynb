{
 "cells": [
  {
   "cell_type": "markdown",
   "id": "56a45c97",
   "metadata": {},
   "source": [
    "## lambda"
   ]
  },
  {
   "cell_type": "code",
   "execution_count": 4,
   "id": "3d2f9a4a",
   "metadata": {},
   "outputs": [
    {
     "name": "stdout",
     "output_type": "stream",
     "text": [
      "myFunc1\n",
      "<function func at 0x000001D58C3973A0>\n",
      "<class 'function'>\n",
      "myFunc1\n"
     ]
    }
   ],
   "source": [
    "def func():\n",
    "    print(\"myFunc1\")\n",
    "func()\n",
    "funcObj = func\n",
    "print(funcObj)\n",
    "print(type(funcObj))\n",
    "funcObj()"
   ]
  },
  {
   "cell_type": "code",
   "execution_count": 5,
   "id": "8a802abf",
   "metadata": {},
   "outputs": [
    {
     "name": "stdout",
     "output_type": "stream",
     "text": [
      "6\n"
     ]
    }
   ],
   "source": [
    "g = lambda x,y,z : x + y + z\n",
    "print(g(1,2,3))"
   ]
  },
  {
   "cell_type": "code",
   "execution_count": 6,
   "id": "21527c63",
   "metadata": {},
   "outputs": [
    {
     "name": "stdout",
     "output_type": "stream",
     "text": [
      "9\n",
      "27\n",
      "81\n"
     ]
    }
   ],
   "source": [
    "def f1(x):\n",
    "    return x ** 2\n",
    "def f2(x):\n",
    "    return x**3\n",
    "def f3(x):\n",
    "    return x**4\n",
    "list1 = [f1,f2,f3]\n",
    "for f in list1:\n",
    "    print(f(3))"
   ]
  },
  {
   "cell_type": "code",
   "execution_count": 7,
   "id": "5593ba57",
   "metadata": {},
   "outputs": [
    {
     "name": "stdout",
     "output_type": "stream",
     "text": [
      "9\n",
      "27\n",
      "81\n"
     ]
    }
   ],
   "source": [
    "list2 = [lambda x:x**2,\n",
    "         lambda x:x**3,\n",
    "         lambda x:x**4]\n",
    "for g in list2:\n",
    "    print(g(3))\n"
   ]
  },
  {
   "cell_type": "code",
   "execution_count": 10,
   "id": "0a08902a",
   "metadata": {},
   "outputs": [
    {
     "name": "stdout",
     "output_type": "stream",
     "text": [
      "未成年\n",
      "未成年\n"
     ]
    }
   ],
   "source": [
    "age = 12\n",
    "# >= 18 顯示成年\n",
    "#  否則 顯示未成年\n",
    "msg = \"\"\n",
    "if age >= 18:\n",
    "    msg = \"成年\"\n",
    "else:\n",
    "    msg = \"未成年\"\n",
    "print(msg)  \n",
    "\n",
    "msg2 = \"成年\" if age >= 18 else \"未成年\"\n",
    "print(msg2)"
   ]
  },
  {
   "cell_type": "code",
   "execution_count": 11,
   "id": "8841ae88",
   "metadata": {},
   "outputs": [
    {
     "name": "stdout",
     "output_type": "stream",
     "text": [
      "10\n",
      "30\n"
     ]
    }
   ],
   "source": [
    "findmin = lambda x,y : x if x < y else y\n",
    "print(findmin(10,20))\n",
    "print(findmin(40,30))"
   ]
  },
  {
   "cell_type": "markdown",
   "id": "078037d3",
   "metadata": {},
   "source": [
    "## 模擬Switch\n",
    "因為Python沒有siwtch 可使用 lambda + map 模擬\n",
    "```java\n",
    "switch(score){\n",
    "case 10:\n",
    "print('Perfect')\n",
    "case 9:\n",
    "print('A')\n",
    "case 8:\n",
    "print('B')\n",
    "case 7:\n",
    "print('C')\n",
    "case 6:\n",
    "print('D')\n",
    "default:\n",
    "print('E')\n",
    "}\n",
    "```"
   ]
  },
  {
   "cell_type": "code",
   "execution_count": 19,
   "id": "5da54aa0",
   "metadata": {},
   "outputs": [
    {
     "name": "stdout",
     "output_type": "stream",
     "text": [
      "Play\n"
     ]
    }
   ],
   "source": [
    "action = 1\n",
    "{\n",
    "  1 : lambda:print(\"Play\"),  \n",
    "  2 : lambda:print(\"Stop\"),\n",
    "  3 : lambda:print(\"Exit\")  \n",
    "}.get(action,lambda:print(\"無效的選項\"))()"
   ]
  },
  {
   "cell_type": "code",
   "execution_count": 22,
   "id": "04e59993",
   "metadata": {},
   "outputs": [
    {
     "name": "stdout",
     "output_type": "stream",
     "text": [
      "Pause\n"
     ]
    }
   ],
   "source": [
    "action = 4\n",
    "dircAction1 = {\n",
    "  1 : lambda:print(\"Play\"),  \n",
    "  2 : lambda:print(\"Stop\"),\n",
    "  3 : lambda:print(\"Exit\")  \n",
    "}\n",
    "dircAction1[4] = lambda:print(\"Pause\")  \n",
    "dircAction1.get(action,lambda:print(\"無效的選項\"))()"
   ]
  },
  {
   "cell_type": "markdown",
   "id": "adafb4ce",
   "metadata": {},
   "source": [
    "# Map與Filter\n",
    "+ 用法：map(function, sequence)\n",
    "+ 將複合性資料逐一取出項目再傳入到 function 操作，最後以 list 作為回傳值。\n",
    "+ filter( ) 函數用於過濾 list，過濾掉不符合條件的元素，返回由符合條件元素組成的新 list。\n",
    "+ filter 接收兩個參數，第一個為函數，第二個為 list，list 的每個元素作為參數傳遞給函數進行分析，然後返回 True 或 False，最後將返回 True 的元素放到新list中。"
   ]
  },
  {
   "cell_type": "code",
   "execution_count": 25,
   "id": "ddec5c8e",
   "metadata": {},
   "outputs": [
    {
     "name": "stdout",
     "output_type": "stream",
     "text": [
      "[2, 4, 6, 8]\n",
      "[1, 4, 9, 16]\n"
     ]
    }
   ],
   "source": [
    "def m1(x):\n",
    "    return x * 2\n",
    "a = map(m1,[1,2,3,4])\n",
    "list2 = list(a)\n",
    "print(list2)\n",
    "a = map(lambda x : x ** 2,[1,2,3,4])\n",
    "list3 = list(a)\n",
    "print(list3)"
   ]
  },
  {
   "cell_type": "code",
   "execution_count": 26,
   "id": "c62e1d82",
   "metadata": {},
   "outputs": [
    {
     "name": "stdout",
     "output_type": "stream",
     "text": [
      "[1, 2, 3, 0, 4, 5, 0, 6]\n"
     ]
    }
   ],
   "source": [
    "list4 = [1,2,3,\"\",4,5,\"\",6]\n",
    "result =map(lambda x:x if x != \"\" else 0,list4)\n",
    "list5 = list(result)\n",
    "print(list5)"
   ]
  },
  {
   "cell_type": "markdown",
   "id": "c02e6a68",
   "metadata": {},
   "source": [
    "## Filter"
   ]
  },
  {
   "cell_type": "code",
   "execution_count": 28,
   "id": "d8b64c0f",
   "metadata": {},
   "outputs": [
    {
     "name": "stdout",
     "output_type": "stream",
     "text": [
      "[2, 4, 6]\n"
     ]
    }
   ],
   "source": [
    "a = [1,2,3,4,5,6]\n",
    "filterObj = filter(lambda x:x%2 == 0,a)\n",
    "list6 = list(filterObj)\n",
    "print(list6)"
   ]
  },
  {
   "cell_type": "code",
   "execution_count": 29,
   "id": "4fe844ae",
   "metadata": {},
   "outputs": [
    {
     "name": "stdout",
     "output_type": "stream",
     "text": [
      "[1, 2, 3, 4, 5, 6]\n"
     ]
    }
   ],
   "source": [
    "list7 = [1,2,3,\"\",4,5,\"\",6]\n",
    "filterObj = filter(lambda x:x!=\"\",list7)\n",
    "list8 = list(filterObj)\n",
    "print(list8)"
   ]
  },
  {
   "cell_type": "markdown",
   "id": "c7f4caea",
   "metadata": {},
   "source": [
    "# 模組與套件\n",
    "引用 python 檔案就以檔案的主檔案名稱作為模組名稱，\n",
    "\n",
    "+ 共有以下三種方式：\n",
    "+ import 模組\n",
    "+ import 模組 as 新模組名稱\n",
    "+ from 模組 import 模組內方法\n",
    "  + 不建議 from 模組 import *，易造成名稱衝突!"
   ]
  },
  {
   "cell_type": "code",
   "execution_count": 31,
   "id": "d2a7318f",
   "metadata": {},
   "outputs": [
    {
     "name": "stdout",
     "output_type": "stream",
     "text": [
      "Create\n",
      "func1\n"
     ]
    }
   ],
   "source": [
    "import modu\n",
    "obj1 = modu.test1()\n",
    "modu.fun1()"
   ]
  },
  {
   "cell_type": "markdown",
   "id": "0dd1712a",
   "metadata": {},
   "source": [
    "## 套件\n",
    "+ 套件內可以有多個模組。\n",
    "+ 套件名稱是資料夾名稱。\n",
    "+ 建立一個叫做 happy 的資料夾，裡面放了一個 __init__.py 的空檔案。\n",
    "+ 每個套件裡都必須存在 __init__.py 這個檔案，它的目的就是告訴Python 說這個資料夾請把它當做套件來對待。\n",
    "+ __init__.py 可以是空的，也可以放一些變數或程式在裡面。"
   ]
  },
  {
   "cell_type": "code",
   "execution_count": 34,
   "id": "ba31bb7c",
   "metadata": {},
   "outputs": [
    {
     "name": "stdout",
     "output_type": "stream",
     "text": [
      "Happy Python!\n",
      "Happy Python!!\n"
     ]
    }
   ],
   "source": [
    "import happy.my_mod\n",
    "import happy.io.my_mod_io\n",
    "\n",
    "happy.my_mod.happy_python()\n",
    "happy.io.my_mod_io.happy_python()\n"
   ]
  },
  {
   "cell_type": "code",
   "execution_count": 35,
   "id": "541a1974",
   "metadata": {},
   "outputs": [
    {
     "name": "stdout",
     "output_type": "stream",
     "text": [
      "Happy Python!\n",
      "Happy Python!!\n"
     ]
    }
   ],
   "source": [
    "import happy.my_mod\n",
    "import happy.io.my_mod_io as myio\n",
    "\n",
    "happy.my_mod.happy_python()\n",
    "myio.happy_python()\n"
   ]
  },
  {
   "cell_type": "code",
   "execution_count": 39,
   "id": "3222e161",
   "metadata": {},
   "outputs": [
    {
     "name": "stdout",
     "output_type": "stream",
     "text": [
      "CCCC\n"
     ]
    }
   ],
   "source": [
    "from happy.my_mod import happy_python\n",
    "\n",
    "happy_python()"
   ]
  },
  {
   "cell_type": "markdown",
   "id": "39bf86e6",
   "metadata": {},
   "source": [
    "## 呼叫內建模組函數"
   ]
  },
  {
   "cell_type": "code",
   "execution_count": 43,
   "id": "57a1efe5",
   "metadata": {},
   "outputs": [
    {
     "name": "stdout",
     "output_type": "stream",
     "text": [
      "14\n"
     ]
    }
   ],
   "source": [
    "import random\n",
    "a = random.randint(0,100) #包含到100 0~100之間任意數\n",
    "print(a)\n"
   ]
  }
 ],
 "metadata": {
  "kernelspec": {
   "display_name": "Python 3 (ipykernel)",
   "language": "python",
   "name": "python3"
  },
  "language_info": {
   "codemirror_mode": {
    "name": "ipython",
    "version": 3
   },
   "file_extension": ".py",
   "mimetype": "text/x-python",
   "name": "python",
   "nbconvert_exporter": "python",
   "pygments_lexer": "ipython3",
   "version": "3.8.16"
  }
 },
 "nbformat": 4,
 "nbformat_minor": 5
}
