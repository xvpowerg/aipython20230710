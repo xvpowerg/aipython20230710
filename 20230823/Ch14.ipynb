{
 "cells": [
  {
   "cell_type": "code",
   "execution_count": 1,
   "id": "5f271cff",
   "metadata": {},
   "outputs": [
    {
     "name": "stdout",
     "output_type": "stream",
     "text": [
      "{\"python\": \"課程\", \"gjun\": 100, \"python-class\": true, \"ICQ\": null}\n"
     ]
    }
   ],
   "source": [
    "import json\n",
    "json1 = {'python':'課程','gjun':100,'python-class':True,'ICQ':None}\n",
    "json2 = json.dumps(json1,ensure_ascii=False)\n",
    "print(json2)"
   ]
  },
  {
   "cell_type": "code",
   "execution_count": 2,
   "id": "7750a6c9",
   "metadata": {},
   "outputs": [],
   "source": [
    "import json\n",
    "json1 = {'python':'課程','gjun':100,'python-class':True,'ICQ':None}\n",
    "with open(\"data0.json\",\"w\",encoding=\"utf-8\") as outFile:\n",
    "    json.dump(json1,outFile,ensure_ascii=False)"
   ]
  },
  {
   "cell_type": "code",
   "execution_count": 6,
   "id": "3522b7ea",
   "metadata": {},
   "outputs": [],
   "source": [
    "import json\n",
    "data = { }\n",
    "data['people'] = [ ]\n",
    "data['people'].append({\n",
    "    'name': 'Scott',\n",
    "    'website': 'stackabuse.com',\n",
    "    'from': 'Nebraska'\n",
    "})\n",
    "data['people'].append({\n",
    "    'name': 'Larry',\n",
    "    'website': 'google.com',\n",
    "    'from': 'Michigan'\n",
    "})\n",
    "with open(\"score.json\",\"w\",encoding=\"utf-8\") as outFile:\n",
    "    json.dump(data,outFile,ensure_ascii=False,indent=2)"
   ]
  },
  {
   "cell_type": "markdown",
   "id": "e13fc19e",
   "metadata": {},
   "source": [
    "## 讀入JSON傳Python物件\n",
    "+ 以 json.loads( ) 函數從 JSON 字串中取出資料轉入 Python。\n",
    "+ 以 json.load( ) 函數從 JSON 檔案中取出資料轉入 Python。"
   ]
  },
  {
   "cell_type": "code",
   "execution_count": 10,
   "id": "3348656c",
   "metadata": {},
   "outputs": [
    {
     "name": "stdout",
     "output_type": "stream",
     "text": [
      "{'people': [{'name': 'Scott', 'website': 'stackabuse.com', 'from': 'Nebraska'}, {'name': 'Larry', 'website': 'google.com', 'from': 'Michigan'}]}\n",
      "{'name': 'Scott', 'website': 'stackabuse.com', 'from': 'Nebraska'}\n",
      "{'name': 'Larry', 'website': 'google.com', 'from': 'Michigan'}\n"
     ]
    }
   ],
   "source": [
    "import json\n",
    "with open('score.json',\"r\") as jsonFile:\n",
    "    data = json.load(jsonFile)\n",
    "print(data) \n",
    "for p in data[\"people\"]:\n",
    "    print(p)"
   ]
  },
  {
   "cell_type": "code",
   "execution_count": 13,
   "id": "fd1efde0",
   "metadata": {},
   "outputs": [
    {
     "name": "stdout",
     "output_type": "stream",
     "text": [
      "<class 'dict'>\n",
      "{'python': 'good', 'gjun': 100, 'python-class': True, 'ICQ': None}\n",
      "True\n"
     ]
    }
   ],
   "source": [
    "import json\n",
    "json1 = '{\"python\":\"good\",\"gjun\":100,\"python-class\":true,\"ICQ\":null}'\n",
    "obj = json.loads(json1)\n",
    "print(type(obj))\n",
    "print(obj)\n",
    "print(obj[\"python-class\"])"
   ]
  },
  {
   "cell_type": "markdown",
   "id": "6483dbeb",
   "metadata": {},
   "source": [
    "## BeautifulSoup Base"
   ]
  },
  {
   "cell_type": "code",
   "execution_count": 14,
   "id": "a49990aa",
   "metadata": {},
   "outputs": [
    {
     "name": "stdout",
     "output_type": "stream",
     "text": [
      "Requirement already satisfied: beautifulsoup4 in c:\\users\\xvpow\\anaconda3\\lib\\site-packages (4.12.2)\n",
      "Requirement already satisfied: soupsieve>1.2 in c:\\users\\xvpow\\anaconda3\\lib\\site-packages (from beautifulsoup4) (2.4)\n"
     ]
    }
   ],
   "source": [
    "!pip install beautifulsoup4"
   ]
  },
  {
   "cell_type": "code",
   "execution_count": 15,
   "id": "52fe3431",
   "metadata": {},
   "outputs": [
    {
     "name": "stdout",
     "output_type": "stream",
     "text": [
      "Requirement already satisfied: html5lib in c:\\users\\xvpow\\anaconda3\\lib\\site-packages (1.1)\n",
      "Requirement already satisfied: six>=1.9 in c:\\users\\xvpow\\anaconda3\\lib\\site-packages (from html5lib) (1.16.0)\n",
      "Requirement already satisfied: webencodings in c:\\users\\xvpow\\anaconda3\\lib\\site-packages (from html5lib) (0.5.1)\n"
     ]
    }
   ],
   "source": [
    "!pip install html5lib"
   ]
  },
  {
   "cell_type": "markdown",
   "id": "e8a91fc7",
   "metadata": {},
   "source": [
    "## BeautifulSoup Base\n",
    "find() 只找第一個符合條件的\n",
    "\n",
    "https://www.crummy.com/software/BeautifulSoup/bs4/doc.zh/#find-all\n",
    "\n",
    "find_all() 找所有符合條件的\n",
    "\n",
    "select_one() 只找一個符合條件的可直接使用css語法\n",
    "\n",
    "select() 找所有符合條件的可使用css語法\n"
   ]
  },
  {
   "cell_type": "code",
   "execution_count": 23,
   "id": "28c9efc7",
   "metadata": {},
   "outputs": [
    {
     "name": "stdout",
     "output_type": "stream",
     "text": [
      "<a class=\"c1\" id=\"a1\">V1</a>\n",
      "<a class=\"c1\" id=\"a2\">V2</a>\n",
      "[<a class=\"c1\" id=\"a1\">V1</a>, <a class=\"c1\" id=\"a2\">V2</a>]\n",
      "[<a class=\"c1\" id=\"a1\">V1</a>, <a class=\"c1\" id=\"a2\">V2</a>]\n"
     ]
    }
   ],
   "source": [
    "import requests\n",
    "from bs4 import BeautifulSoup\n",
    "html='''<a id='a1' class=\"c1\">V1</a>\n",
    "<a id='a2' class=\"c1\">V2</a>\n",
    "<a id='a3' class=\"c3\">V3</a>\n",
    "'''\n",
    "soup = BeautifulSoup(html, 'html5lib')\n",
    "print(soup.find(id = \"a1\"))\n",
    "print(soup.select_one(\"#a2\"))\n",
    "print(soup.find_all(class_ =\"c1\" ))\n",
    "print(soup.select(\".c1\"))"
   ]
  },
  {
   "cell_type": "markdown",
   "id": "d9cfd8ba",
   "metadata": {},
   "source": [
    "## 取得數值\n",
    "\n",
    "get(屬性)\n",
    "\n",
    "getText()"
   ]
  },
  {
   "cell_type": "code",
   "execution_count": 26,
   "id": "e906b712",
   "metadata": {},
   "outputs": [
    {
     "name": "stdout",
     "output_type": "stream",
     "text": [
      "Google https://google.com\n",
      "==========================\n",
      "Google https://google.com\n",
      "Yahoo https://yahoo.com\n"
     ]
    }
   ],
   "source": [
    "html='''<a id='a1' class=\"c1\" href=\"https://google.com\">Google</a>\n",
    "<a id='a2' class=\"c1\"  href=\"https://yahoo.com\">Yahoo</a>\n",
    "<a id='a3' class=\"c3\" href=\"https://facebook.com\">Facebook</a>\n",
    "'''\n",
    "soup = BeautifulSoup(html, 'html5lib')\n",
    "t1 = soup.find(id = \"a1\").getText()\n",
    "h1 = soup.find(id = \"a1\").get(\"href\")\n",
    "print(t1,h1)\n",
    "print(\"==========================\")\n",
    "c1List = soup.find_all(class_=\"c1\")\n",
    "for c1tag in c1List:\n",
    "    print(c1tag.getText(),c1tag.get(\"href\"))"
   ]
  },
  {
   "cell_type": "markdown",
   "id": "9eebb3bf",
   "metadata": {},
   "source": [
    "# 使用html檔案練習"
   ]
  },
  {
   "cell_type": "code",
   "execution_count": 38,
   "id": "10dda005",
   "metadata": {},
   "outputs": [
    {
     "name": "stdout",
     "output_type": "stream",
     "text": [
      "以下是列印一個h1元素: \n",
      "class與id練習測試h1標籤\n",
      "以下是列印全部h1元素: \n",
      "class與id練習測試h1標籤\n",
      "國家首都資料表\n",
      "h1標籤測試1\n",
      "h1標籤測試2\n",
      "h1標籤測試3\n",
      "h1標籤測試4\n",
      "以下是列印h2元素，只找兩個: \n",
      "class與id練習測試h2標籤\n",
      "程式語言清單\n"
     ]
    }
   ],
   "source": [
    "import bs4\n",
    "htmlFile = open(\"web1.html\",encoding=\"utf-8\",errors = \"ignore\")\n",
    "soup = bs4.BeautifulSoup(htmlFile,\"html5lib\")\n",
    "print(\"以下是列印一個h1元素: \")\n",
    "objTag = soup.find('h1')\n",
    "print(objTag.text)\n",
    "print(\"以下是列印全部h1元素: \")\n",
    "objTag = soup.find_all('h1')\n",
    "for data in objTag:                       \n",
    "    print(data.text)\n",
    "objTag = soup.find_all('h2', limit=2)\n",
    "print(\"以下是列印h2元素，只找兩個: \")\n",
    "for data in objTag:                       \n",
    "    print(data.text)\n"
   ]
  },
  {
   "cell_type": "code",
   "execution_count": 39,
   "id": "9f75672d",
   "metadata": {},
   "outputs": [
    {
     "name": "stdout",
     "output_type": "stream",
     "text": [
      "<div id=\"id1\">士林夜市</div>\n",
      "士林夜市\n"
     ]
    }
   ],
   "source": [
    "import bs4\n",
    "htmlFile = open('web1.html',encoding=\"utf8\",errors='ignore')\n",
    "objSoup = bs4.BeautifulSoup(htmlFile, 'html5lib')\n",
    "objTag = objSoup.find_all(id='id1')\n",
    "for data in objTag:                       \n",
    "    print(data)\n",
    "    print(data.text)"
   ]
  },
  {
   "cell_type": "code",
   "execution_count": 41,
   "id": "5bd53863",
   "metadata": {},
   "outputs": [
    {
     "name": "stdout",
     "output_type": "stream",
     "text": [
      "<li class=\"class1\">Foo</li>\n",
      "Foo\n",
      "<li class=\"class1\">Bar</li>\n",
      "Bar\n",
      "<li class=\"class1\">Jay</li>\n",
      "Jay\n",
      "<div class=\"class1\">故宮博物院</div>\n",
      "故宮博物院\n",
      "<span class=\"class1\">各種</span>\n",
      "各種\n"
     ]
    }
   ],
   "source": [
    "import bs4\n",
    "htmlFile = open('web1.html',encoding=\"utf8\",errors='ignore')\n",
    "objSoup = bs4.BeautifulSoup(htmlFile, 'html5lib')\n",
    "objTag = objSoup.find_all(class_='class1')\n",
    "for data in objTag:                       \n",
    "    print(data)\n",
    "    print(data.text)\n"
   ]
  },
  {
   "cell_type": "markdown",
   "id": "3999664e",
   "metadata": {},
   "source": [
    "## 查詢 css中的class方法2，請留意查詢結果。 標籤為span且class為class1"
   ]
  },
  {
   "cell_type": "code",
   "execution_count": 43,
   "id": "933bfdee",
   "metadata": {},
   "outputs": [
    {
     "name": "stdout",
     "output_type": "stream",
     "text": [
      "<div class=\"class1\">故宮博物院</div>\n",
      "故宮博物院\n",
      "<div class=\"class2\">日月潭</div>\n",
      "日月潭\n",
      "<div class=\"class2 class3\">阿里山</div>\n",
      "阿里山\n"
     ]
    }
   ],
   "source": [
    "import bs4\n",
    "htmlFile = open('web1.html',encoding=\"utf8\",errors='ignore')\n",
    "objSoup = bs4.BeautifulSoup(htmlFile, 'html5lib')\n",
    "objTag = objSoup.find_all('div',{'class':{'class1','class2'}})\n",
    "for data in objTag:                       \n",
    "    print(data)\n",
    "    print(data.text)"
   ]
  },
  {
   "cell_type": "markdown",
   "id": "38a05a56",
   "metadata": {},
   "source": [
    "## 查詢 css中的class方法4，請留意查詢結果。查詢所有h2 h3 h4標籤"
   ]
  },
  {
   "cell_type": "code",
   "execution_count": 44,
   "id": "971d4a51",
   "metadata": {},
   "outputs": [
    {
     "name": "stdout",
     "output_type": "stream",
     "text": [
      "<h4>Hello</h4>\n",
      "Hello\n",
      "<h2>class與id練習測試h2標籤</h2>\n",
      "class與id練習測試h2標籤\n",
      "<h2>程式語言清單</h2>\n",
      "程式語言清單\n",
      "<h3>以下為圖片\n",
      "<img src=\"new1.jpg\"/></h3>\n",
      "以下為圖片\n",
      "\n",
      "<h2>h2標籤測試1</h2>\n",
      "h2標籤測試1\n",
      "<h2>h2標籤測試2</h2>\n",
      "h2標籤測試2\n",
      "<h2>h2標籤測試3</h2>\n",
      "h2標籤測試3\n",
      "<h2>h2標籤測試4</h2>\n",
      "h2標籤測試4\n",
      "<h3>h3標籤測試1</h3>\n",
      "h3標籤測試1\n",
      "<h4>h4標籤測試1</h4>\n",
      "h4標籤測試1\n"
     ]
    }
   ],
   "source": [
    "import bs4\n",
    "htmlFile = open('web1.html',encoding=\"utf8\",errors='ignore')\n",
    "objSoup = bs4.BeautifulSoup(htmlFile, 'html5lib')\n",
    "objTag = objSoup.find_all(['h2','h3','h4'])\n",
    "for data in objTag:                       \n",
    "    print(data)\n",
    "    print(data.text)\n"
   ]
  },
  {
   "cell_type": "markdown",
   "id": "de6e53f4",
   "metadata": {},
   "source": [
    "## 標籤回傳內容\n",
    "\n",
    ".string 會返回標籤最裡面的內容，如果標籤內還有其他子節點(若有子標籤，代表不是單純的字串)，而會輸出 None。\n",
    "\n",
    ".strings 可以獲得多個內容，但需要加上迴圈進行資料查找處理。\n",
    "\n",
    ".stripped_strings 可將輸出的字串中空白內容去除。 \n",
    "\n",
    "repr(）方法可將物件或其他資料轉換為字串進行輸出!"
   ]
  },
  {
   "cell_type": "code",
   "execution_count": 50,
   "id": "93fca583",
   "metadata": {
    "scrolled": false
   },
   "outputs": [
    {
     "name": "stdout",
     "output_type": "stream",
     "text": [
      "選擇元素\n",
      "#id1{ color: red;}\n",
      " .class1 {color: green;}\n",
      " .class2 {color: blue;} \n",
      " .class3 { background-color: yellow;}\n",
      "Hello\n",
      "Foo\n",
      "Bar\n",
      "Jay\n",
      "Foo\n",
      "Bar\n",
      "class與id練習測試h1標籤\n",
      "class與id練習測試h2標籤\n",
      "故宮博物院\n",
      "日月潭\n",
      "阿里山\n",
      "士林夜市\n",
      "各種\n",
      "span的\n",
      "運用\n",
      "。\n",
      "程式語言清單\n",
      "Python\n",
      "Java\n",
      "C#\n",
      "以下為圖片\n",
      "表格測試\n",
      "th1\n",
      "th2\n",
      "th3\n",
      "tr1td1\n",
      "tr1td3\n",
      "tr2td1\n",
      "tr2td2\n",
      "tr3td2\n",
      "tr3td3\n",
      "td_col3\n",
      "國家首都資料表\n",
      "Washington\n",
      "美國首都\n",
      "Tokyo\n",
      "日本首都\n",
      "Paris\n",
      "法國首都\n",
      "p之前div1\n",
      "p之前div2\n",
      "p標籤0\n",
      "粗體字 p1\n",
      "p標籤2\n",
      "p標籤3\n",
      "h1標籤測試1\n",
      "h1標籤測試2\n",
      "h1標籤測試3\n",
      "h1標籤測試4\n",
      "h2標籤測試1\n",
      "h2標籤測試2\n",
      "h2標籤測試3\n",
      "h2標籤測試4\n",
      "h3標籤測試1\n",
      "h4標籤測試1\n"
     ]
    }
   ],
   "source": [
    "import bs4\n",
    "htmlFile = open('web1.html',encoding=\"utf8\",errors='ignore')\n",
    "objSoup = bs4.BeautifulSoup(htmlFile, 'html5lib')\n",
    "#print(objSoup.strings)\n",
    "# for string in objSoup.strings:\n",
    "#     print(string)\n",
    "\n",
    "# for string in objSoup.strings:\n",
    "#     print(repr(string))\n",
    "\n",
    "for string in objSoup.stripped_strings:\n",
    "    print(string)"
   ]
  },
  {
   "cell_type": "markdown",
   "id": "c4aa3eae",
   "metadata": {},
   "source": [
    "## 子節點查找"
   ]
  },
  {
   "cell_type": "code",
   "execution_count": 62,
   "id": "192593c3",
   "metadata": {},
   "outputs": [
    {
     "name": "stdout",
     "output_type": "stream",
     "text": [
      "\n",
      "\n",
      "\n",
      "<div class=\"panel\">\n",
      "    <div class=\"panel-heading\">\n",
      "        <h4>Hello</h4>\t\n",
      "    </div>\n",
      "    <div class=\"panel-body\">\n",
      "        <ul class=\"list\" id=\"list-1\">\n",
      "            <li class=\"class1\">Foo</li>\n",
      "            <li class=\"class1\">Bar</li>\n",
      "            <li class=\"class1\">Jay</li>\n",
      "        </ul>\n",
      "        <ul class=\"list list-small\" id=\"list-2\">\n",
      "            <li class=\"class2\">Foo</li>\n",
      "            <li class=\"class2\">Bar</li>\n",
      "        </ul>\n",
      "    </div>\n",
      "</div>\n",
      "\n",
      "\n",
      "\n",
      "<h1>class與id練習測試h1標籤</h1>\n",
      "\n",
      "\n",
      "<h2>class與id練習測試h2標籤</h2>\n",
      "\n",
      "\n",
      "<div class=\"class1\">故宮博物院</div>\n",
      "\n",
      "\n",
      "<div class=\"class2\">日月潭</div>\n",
      "\n",
      "\n",
      "<div class=\"class2 class3\">阿里山</div>\n",
      "\n",
      "\n",
      "<div id=\"id1\">士林夜市</div>\n",
      "\n",
      "\n",
      "<span class=\"class1\">各種</span>\n",
      "span的\n",
      "<span class=\"class3\">運用</span>\n",
      "。\n",
      "\n",
      "<h2>程式語言清單</h2>\n",
      "\n",
      "\n",
      "<ol type=\"I\">\n",
      "   <li>Python</li><li>Java</li><li>C#</li>\n",
      "</ol>\n",
      "\n",
      "\n",
      "<h3>以下為圖片\n",
      "<img src=\"new1.jpg\"/></h3>\n",
      "\n",
      "\n",
      "<table border=\"1\">\n",
      "   <thead><!--建立表頭 -->\n",
      "      <tr><th colspan=\"3\">表格測試</th></tr>\n",
      "      <tr><th>th1</th><th>th2</th><th>th3</th></tr>\n",
      "   </thead>\n",
      "   <tbody><!-- 建立表格本體 -->\n",
      "      <tr><td>tr1td1</td><td></td><td>tr1td3</td></tr>\n",
      "      <tr><td>tr2td1</td><td>tr2td2</td><td> </td></tr>\n",
      "      <tr><td> </td><td>tr3td2</td><td>tr3td3</td></tr>\n",
      "   </tbody>\n",
      "   <tfoot><!-- 建立表尾 -->\n",
      "      <tr><td colspan=\"3\">td_col3</td></tr>\n",
      "   </tfoot>\n",
      "</table>\n",
      "\n",
      "\n",
      "<h1>國家首都資料表</h1>\n",
      "\n",
      "\n",
      "<dl>\n",
      "   <dt>Washington</dt>\n",
      "      <dd>美國首都</dd>\n",
      "   <dt>Tokyo</dt>\n",
      "      <dd>日本首都</dd>\n",
      "   <dt>Paris</dt>\n",
      "      <dd>法國首都</dd>\n",
      "</dl>\n",
      "\n",
      "\n",
      "<div>p之前div1</div>\n",
      "\n",
      "\n",
      "<div>p之前div2</div>\n",
      "\n",
      "\n",
      "<p>p標籤0</p>\n",
      "\n",
      "\n",
      "<p><b>粗體字 p1</b></p>\n",
      "\n",
      "\n",
      "<p>p標籤2</p>\n",
      "\n",
      "\n",
      "<p>p標籤3</p>\n",
      "\n",
      "\n",
      "<h1>h1標籤測試1</h1>\n",
      "\n",
      "\n",
      "<h1>h1標籤測試2</h1>\n",
      "\n",
      "\n",
      "<h1>h1標籤測試3</h1>\n",
      "\n",
      "\n",
      "<h1>h1標籤測試4</h1>\n",
      "\n",
      "\n",
      "<h2>h2標籤測試1</h2>\n",
      "\n",
      "\n",
      "<h2>h2標籤測試2</h2>\n",
      "\n",
      "\n",
      "<h2>h2標籤測試3</h2>\n",
      "\n",
      "\n",
      "<h2>h2標籤測試4</h2>\n",
      "\n",
      "\n",
      "<h3>h3標籤測試1</h3>\n",
      "\n",
      "\n",
      "<h4>h4標籤測試1</h4>\n",
      "\n",
      "\n",
      "\n",
      "\n"
     ]
    }
   ],
   "source": [
    "import bs4\n",
    "htmlFile = open('web1.html',encoding=\"utf8\",errors='ignore')\n",
    "objSoup = bs4.BeautifulSoup(htmlFile, 'html5lib')\n",
    "for child in  objSoup.body.children:\n",
    "    print(child)"
   ]
  },
  {
   "cell_type": "code",
   "execution_count": null,
   "id": "e0c8d8e0",
   "metadata": {},
   "outputs": [],
   "source": []
  }
 ],
 "metadata": {
  "kernelspec": {
   "display_name": "Python 3 (ipykernel)",
   "language": "python",
   "name": "python3"
  },
  "language_info": {
   "codemirror_mode": {
    "name": "ipython",
    "version": 3
   },
   "file_extension": ".py",
   "mimetype": "text/x-python",
   "name": "python",
   "nbconvert_exporter": "python",
   "pygments_lexer": "ipython3",
   "version": "3.8.16"
  }
 },
 "nbformat": 4,
 "nbformat_minor": 5
}
